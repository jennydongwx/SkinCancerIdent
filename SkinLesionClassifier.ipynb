{
 "cells": [
  {
   "cell_type": "code",
   "execution_count": 2,
   "metadata": {},
   "outputs": [],
   "source": [
    "%matplotlib inline\n",
    "import matplotlib.pyplot as plt\n",
    "import numpy as np\n",
    "import pandas as pd\n",
    "from glob import glob\n",
    "import os\n",
    "from PIL import Image"
   ]
  },
  {
   "cell_type": "code",
   "execution_count": 3,
   "metadata": {},
   "outputs": [],
   "source": [
    "#pytorch\n",
    "import torch\n",
    "import torchvision\n",
    "import torchvision.transforms as transforms\n",
    "import torch.nn as nn\n",
    "import torch.nn.functional as F\n",
    "import torch.optim as optim\n",
    "\n",
    "from torch.utils.data import DataLoader,Dataset\n",
    "from torchvision import models,transforms"
   ]
  },
  {
   "cell_type": "code",
   "execution_count": 4,
   "metadata": {},
   "outputs": [],
   "source": [
    "#sklearn\n",
    "from sklearn.model_selection import train_test_split\n",
    "from sklearn.metrics import confusion_matrix\n",
    "from sklearn.metrics import classification_report"
   ]
  },
  {
   "cell_type": "markdown",
   "metadata": {},
   "source": [
    "## Read in Metadata"
   ]
  },
  {
   "cell_type": "code",
   "execution_count": 5,
   "metadata": {},
   "outputs": [],
   "source": [
    "skin_df = pd.read_csv('data/HAM10000_metadata.csv')"
   ]
  },
  {
   "cell_type": "code",
   "execution_count": 6,
   "metadata": {},
   "outputs": [
    {
     "data": {
      "text/html": [
       "<div>\n",
       "<style scoped>\n",
       "    .dataframe tbody tr th:only-of-type {\n",
       "        vertical-align: middle;\n",
       "    }\n",
       "\n",
       "    .dataframe tbody tr th {\n",
       "        vertical-align: top;\n",
       "    }\n",
       "\n",
       "    .dataframe thead th {\n",
       "        text-align: right;\n",
       "    }\n",
       "</style>\n",
       "<table border=\"1\" class=\"dataframe\">\n",
       "  <thead>\n",
       "    <tr style=\"text-align: right;\">\n",
       "      <th></th>\n",
       "      <th>lesion_id</th>\n",
       "      <th>image_id</th>\n",
       "      <th>dx</th>\n",
       "      <th>dx_type</th>\n",
       "      <th>age</th>\n",
       "      <th>sex</th>\n",
       "      <th>localization</th>\n",
       "    </tr>\n",
       "  </thead>\n",
       "  <tbody>\n",
       "    <tr>\n",
       "      <th>0</th>\n",
       "      <td>HAM_0000118</td>\n",
       "      <td>ISIC_0027419</td>\n",
       "      <td>bkl</td>\n",
       "      <td>histo</td>\n",
       "      <td>80.0</td>\n",
       "      <td>male</td>\n",
       "      <td>scalp</td>\n",
       "    </tr>\n",
       "    <tr>\n",
       "      <th>1</th>\n",
       "      <td>HAM_0000118</td>\n",
       "      <td>ISIC_0025030</td>\n",
       "      <td>bkl</td>\n",
       "      <td>histo</td>\n",
       "      <td>80.0</td>\n",
       "      <td>male</td>\n",
       "      <td>scalp</td>\n",
       "    </tr>\n",
       "    <tr>\n",
       "      <th>2</th>\n",
       "      <td>HAM_0002730</td>\n",
       "      <td>ISIC_0026769</td>\n",
       "      <td>bkl</td>\n",
       "      <td>histo</td>\n",
       "      <td>80.0</td>\n",
       "      <td>male</td>\n",
       "      <td>scalp</td>\n",
       "    </tr>\n",
       "    <tr>\n",
       "      <th>3</th>\n",
       "      <td>HAM_0002730</td>\n",
       "      <td>ISIC_0025661</td>\n",
       "      <td>bkl</td>\n",
       "      <td>histo</td>\n",
       "      <td>80.0</td>\n",
       "      <td>male</td>\n",
       "      <td>scalp</td>\n",
       "    </tr>\n",
       "    <tr>\n",
       "      <th>4</th>\n",
       "      <td>HAM_0001466</td>\n",
       "      <td>ISIC_0031633</td>\n",
       "      <td>bkl</td>\n",
       "      <td>histo</td>\n",
       "      <td>75.0</td>\n",
       "      <td>male</td>\n",
       "      <td>ear</td>\n",
       "    </tr>\n",
       "  </tbody>\n",
       "</table>\n",
       "</div>"
      ],
      "text/plain": [
       "     lesion_id      image_id   dx dx_type   age   sex localization\n",
       "0  HAM_0000118  ISIC_0027419  bkl   histo  80.0  male        scalp\n",
       "1  HAM_0000118  ISIC_0025030  bkl   histo  80.0  male        scalp\n",
       "2  HAM_0002730  ISIC_0026769  bkl   histo  80.0  male        scalp\n",
       "3  HAM_0002730  ISIC_0025661  bkl   histo  80.0  male        scalp\n",
       "4  HAM_0001466  ISIC_0031633  bkl   histo  75.0  male          ear"
      ]
     },
     "execution_count": 6,
     "metadata": {},
     "output_type": "execute_result"
    }
   ],
   "source": [
    "skin_df.head()"
   ]
  },
  {
   "cell_type": "markdown",
   "metadata": {},
   "source": [
    "Let's take a look at the 7 types of skin lesions"
   ]
  },
  {
   "cell_type": "code",
   "execution_count": 7,
   "metadata": {
    "scrolled": false
   },
   "outputs": [
    {
     "data": {
      "text/plain": [
       "nv       6705\n",
       "mel      1113\n",
       "bkl      1099\n",
       "bcc       514\n",
       "akiec     327\n",
       "vasc      142\n",
       "df        115\n",
       "Name: dx, dtype: int64"
      ]
     },
     "execution_count": 7,
     "metadata": {},
     "output_type": "execute_result"
    }
   ],
   "source": [
    "skin_df['dx'].value_counts()"
   ]
  },
  {
   "cell_type": "markdown",
   "metadata": {},
   "source": [
    "For future processing, we need to convert our label to numbers"
   ]
  },
  {
   "cell_type": "code",
   "execution_count": 8,
   "metadata": {},
   "outputs": [],
   "source": [
    "skin_df['cell_type_idx'] = pd.Categorical(skin_df['dx']).codes"
   ]
  },
  {
   "cell_type": "code",
   "execution_count": 9,
   "metadata": {},
   "outputs": [
    {
     "data": {
      "text/plain": [
       "5    6705\n",
       "4    1113\n",
       "2    1099\n",
       "1     514\n",
       "0     327\n",
       "6     142\n",
       "3     115\n",
       "Name: cell_type_idx, dtype: int64"
      ]
     },
     "execution_count": 9,
     "metadata": {},
     "output_type": "execute_result"
    }
   ],
   "source": [
    "skin_df['cell_type_idx'].value_counts()"
   ]
  },
  {
   "cell_type": "markdown",
   "metadata": {},
   "source": [
    "## Read in Image"
   ]
  },
  {
   "cell_type": "markdown",
   "metadata": {},
   "source": [
    "We have the data in the form of images, and we want to convert them into matrix format that works well with PyTorch"
   ]
  },
  {
   "cell_type": "markdown",
   "metadata": {},
   "source": [
    "The first step is to match up the image filenames with their corresponding image id"
   ]
  },
  {
   "cell_type": "code",
   "execution_count": 10,
   "metadata": {},
   "outputs": [],
   "source": [
    "data_dir = '../SkinLesionClassifier_data'\n",
    "all_image_path = glob(os.path.join(data_dir, '*', '*.jpg'))\n",
    "imageid_path_dict = {os.path.splitext(os.path.basename(x))[0]: x for x in all_image_path}"
   ]
  },
  {
   "cell_type": "code",
   "execution_count": 11,
   "metadata": {},
   "outputs": [],
   "source": [
    "skin_df['path'] = skin_df['image_id'].map(imageid_path_dict.get)"
   ]
  },
  {
   "cell_type": "code",
   "execution_count": 12,
   "metadata": {
    "scrolled": true
   },
   "outputs": [
    {
     "data": {
      "text/html": [
       "<div>\n",
       "<style scoped>\n",
       "    .dataframe tbody tr th:only-of-type {\n",
       "        vertical-align: middle;\n",
       "    }\n",
       "\n",
       "    .dataframe tbody tr th {\n",
       "        vertical-align: top;\n",
       "    }\n",
       "\n",
       "    .dataframe thead th {\n",
       "        text-align: right;\n",
       "    }\n",
       "</style>\n",
       "<table border=\"1\" class=\"dataframe\">\n",
       "  <thead>\n",
       "    <tr style=\"text-align: right;\">\n",
       "      <th></th>\n",
       "      <th>lesion_id</th>\n",
       "      <th>image_id</th>\n",
       "      <th>dx</th>\n",
       "      <th>dx_type</th>\n",
       "      <th>age</th>\n",
       "      <th>sex</th>\n",
       "      <th>localization</th>\n",
       "      <th>cell_type_idx</th>\n",
       "      <th>path</th>\n",
       "    </tr>\n",
       "  </thead>\n",
       "  <tbody>\n",
       "    <tr>\n",
       "      <th>0</th>\n",
       "      <td>HAM_0000118</td>\n",
       "      <td>ISIC_0027419</td>\n",
       "      <td>bkl</td>\n",
       "      <td>histo</td>\n",
       "      <td>80.0</td>\n",
       "      <td>male</td>\n",
       "      <td>scalp</td>\n",
       "      <td>2</td>\n",
       "      <td>../SkinLesionClassifier_data/HAM10000_images_p...</td>\n",
       "    </tr>\n",
       "    <tr>\n",
       "      <th>1</th>\n",
       "      <td>HAM_0000118</td>\n",
       "      <td>ISIC_0025030</td>\n",
       "      <td>bkl</td>\n",
       "      <td>histo</td>\n",
       "      <td>80.0</td>\n",
       "      <td>male</td>\n",
       "      <td>scalp</td>\n",
       "      <td>2</td>\n",
       "      <td>../SkinLesionClassifier_data/HAM10000_images_p...</td>\n",
       "    </tr>\n",
       "    <tr>\n",
       "      <th>2</th>\n",
       "      <td>HAM_0002730</td>\n",
       "      <td>ISIC_0026769</td>\n",
       "      <td>bkl</td>\n",
       "      <td>histo</td>\n",
       "      <td>80.0</td>\n",
       "      <td>male</td>\n",
       "      <td>scalp</td>\n",
       "      <td>2</td>\n",
       "      <td>../SkinLesionClassifier_data/HAM10000_images_p...</td>\n",
       "    </tr>\n",
       "    <tr>\n",
       "      <th>3</th>\n",
       "      <td>HAM_0002730</td>\n",
       "      <td>ISIC_0025661</td>\n",
       "      <td>bkl</td>\n",
       "      <td>histo</td>\n",
       "      <td>80.0</td>\n",
       "      <td>male</td>\n",
       "      <td>scalp</td>\n",
       "      <td>2</td>\n",
       "      <td>../SkinLesionClassifier_data/HAM10000_images_p...</td>\n",
       "    </tr>\n",
       "    <tr>\n",
       "      <th>4</th>\n",
       "      <td>HAM_0001466</td>\n",
       "      <td>ISIC_0031633</td>\n",
       "      <td>bkl</td>\n",
       "      <td>histo</td>\n",
       "      <td>75.0</td>\n",
       "      <td>male</td>\n",
       "      <td>ear</td>\n",
       "      <td>2</td>\n",
       "      <td>../SkinLesionClassifier_data/HAM10000_images_p...</td>\n",
       "    </tr>\n",
       "  </tbody>\n",
       "</table>\n",
       "</div>"
      ],
      "text/plain": [
       "     lesion_id      image_id   dx dx_type   age   sex localization  \\\n",
       "0  HAM_0000118  ISIC_0027419  bkl   histo  80.0  male        scalp   \n",
       "1  HAM_0000118  ISIC_0025030  bkl   histo  80.0  male        scalp   \n",
       "2  HAM_0002730  ISIC_0026769  bkl   histo  80.0  male        scalp   \n",
       "3  HAM_0002730  ISIC_0025661  bkl   histo  80.0  male        scalp   \n",
       "4  HAM_0001466  ISIC_0031633  bkl   histo  75.0  male          ear   \n",
       "\n",
       "   cell_type_idx                                               path  \n",
       "0              2  ../SkinLesionClassifier_data/HAM10000_images_p...  \n",
       "1              2  ../SkinLesionClassifier_data/HAM10000_images_p...  \n",
       "2              2  ../SkinLesionClassifier_data/HAM10000_images_p...  \n",
       "3              2  ../SkinLesionClassifier_data/HAM10000_images_p...  \n",
       "4              2  ../SkinLesionClassifier_data/HAM10000_images_p...  "
      ]
     },
     "execution_count": 12,
     "metadata": {},
     "output_type": "execute_result"
    }
   ],
   "source": [
    "skin_df.head()"
   ]
  },
  {
   "cell_type": "markdown",
   "metadata": {},
   "source": [
    "## Data Preprocessing"
   ]
  },
  {
   "cell_type": "markdown",
   "metadata": {},
   "source": [
    "### Fliter for unique lesion_id"
   ]
  },
  {
   "cell_type": "markdown",
   "metadata": {},
   "source": [
    "Now we want to see if `lesion_id` is unique and keep only unduplicated images"
   ]
  },
  {
   "cell_type": "code",
   "execution_count": 13,
   "metadata": {},
   "outputs": [
    {
     "data": {
      "text/plain": [
       "(5514, 9)"
      ]
     },
     "execution_count": 13,
     "metadata": {},
     "output_type": "execute_result"
    }
   ],
   "source": [
    "# this will tell us how many images are associated with each lesion_id\n",
    "df_undup = skin_df.groupby('lesion_id').count()\n",
    "# now we filter out lesion_id's that have only one image associated with it\n",
    "df_undup = df_undup[df_undup['image_id'] == 1]\n",
    "df_undup.reset_index(inplace=True)\n",
    "df_undup.shape"
   ]
  },
  {
   "cell_type": "code",
   "execution_count": 14,
   "metadata": {
    "scrolled": true
   },
   "outputs": [
    {
     "data": {
      "text/plain": [
       "(5514, 9)"
      ]
     },
     "execution_count": 14,
     "metadata": {},
     "output_type": "execute_result"
    }
   ],
   "source": [
    "unique_id = pd.Series(df_undup['lesion_id'].unique())\n",
    "skin_df_uniq = skin_df[skin_df['lesion_id'].isin(unique_id)]\n",
    "skin_df_uniq.shape"
   ]
  },
  {
   "cell_type": "code",
   "execution_count": 15,
   "metadata": {},
   "outputs": [],
   "source": [
    "# read in image and resize it to 100 x 100"
   ]
  },
  {
   "cell_type": "code",
   "execution_count": 16,
   "metadata": {},
   "outputs": [
    {
     "name": "stderr",
     "output_type": "stream",
     "text": [
      "/opt/conda/lib/python3.7/site-packages/ipykernel_launcher.py:2: SettingWithCopyWarning: \n",
      "A value is trying to be set on a copy of a slice from a DataFrame.\n",
      "Try using .loc[row_indexer,col_indexer] = value instead\n",
      "\n",
      "See the caveats in the documentation: http://pandas.pydata.org/pandas-docs/stable/user_guide/indexing.html#returning-a-view-versus-a-copy\n",
      "  \n"
     ]
    }
   ],
   "source": [
    "#skin_df_uniq['image'] = skin_df_uniq['path'].map(lambda x: np.asarray(Image.open(x).resize((100,100))))\n",
    "skin_df_uniq['image'] = skin_df_uniq['path'].map(lambda x: np.asarray(Image.open(x)))"
   ]
  },
  {
   "cell_type": "code",
   "execution_count": 17,
   "metadata": {
    "scrolled": true
   },
   "outputs": [
    {
     "data": {
      "text/html": [
       "<div>\n",
       "<style scoped>\n",
       "    .dataframe tbody tr th:only-of-type {\n",
       "        vertical-align: middle;\n",
       "    }\n",
       "\n",
       "    .dataframe tbody tr th {\n",
       "        vertical-align: top;\n",
       "    }\n",
       "\n",
       "    .dataframe thead th {\n",
       "        text-align: right;\n",
       "    }\n",
       "</style>\n",
       "<table border=\"1\" class=\"dataframe\">\n",
       "  <thead>\n",
       "    <tr style=\"text-align: right;\">\n",
       "      <th></th>\n",
       "      <th>lesion_id</th>\n",
       "      <th>image_id</th>\n",
       "      <th>dx</th>\n",
       "      <th>dx_type</th>\n",
       "      <th>age</th>\n",
       "      <th>sex</th>\n",
       "      <th>localization</th>\n",
       "      <th>cell_type_idx</th>\n",
       "      <th>path</th>\n",
       "      <th>image</th>\n",
       "    </tr>\n",
       "  </thead>\n",
       "  <tbody>\n",
       "    <tr>\n",
       "      <th>10</th>\n",
       "      <td>HAM_0001396</td>\n",
       "      <td>ISIC_0025276</td>\n",
       "      <td>bkl</td>\n",
       "      <td>histo</td>\n",
       "      <td>55.0</td>\n",
       "      <td>female</td>\n",
       "      <td>trunk</td>\n",
       "      <td>2</td>\n",
       "      <td>../SkinLesionClassifier_data/HAM10000_images_p...</td>\n",
       "      <td>[[[22, 13, 16], [22, 11, 15], [22, 11, 15], [2...</td>\n",
       "    </tr>\n",
       "    <tr>\n",
       "      <th>15</th>\n",
       "      <td>HAM_0007207</td>\n",
       "      <td>ISIC_0031326</td>\n",
       "      <td>bkl</td>\n",
       "      <td>histo</td>\n",
       "      <td>65.0</td>\n",
       "      <td>male</td>\n",
       "      <td>back</td>\n",
       "      <td>2</td>\n",
       "      <td>../SkinLesionClassifier_data/HAM10000_images_p...</td>\n",
       "      <td>[[[202, 160, 180], [198, 159, 178], [197, 160,...</td>\n",
       "    </tr>\n",
       "    <tr>\n",
       "      <th>20</th>\n",
       "      <td>HAM_0006071</td>\n",
       "      <td>ISIC_0032343</td>\n",
       "      <td>bkl</td>\n",
       "      <td>histo</td>\n",
       "      <td>70.0</td>\n",
       "      <td>female</td>\n",
       "      <td>face</td>\n",
       "      <td>2</td>\n",
       "      <td>../SkinLesionClassifier_data/HAM10000_images_p...</td>\n",
       "      <td>[[[0, 0, 0], [0, 0, 0], [0, 0, 0], [0, 0, 0], ...</td>\n",
       "    </tr>\n",
       "    <tr>\n",
       "      <th>33</th>\n",
       "      <td>HAM_0005612</td>\n",
       "      <td>ISIC_0024981</td>\n",
       "      <td>bkl</td>\n",
       "      <td>histo</td>\n",
       "      <td>80.0</td>\n",
       "      <td>male</td>\n",
       "      <td>scalp</td>\n",
       "      <td>2</td>\n",
       "      <td>../SkinLesionClassifier_data/HAM10000_images_p...</td>\n",
       "      <td>[[[204, 209, 213], [205, 204, 209], [205, 203,...</td>\n",
       "    </tr>\n",
       "    <tr>\n",
       "      <th>34</th>\n",
       "      <td>HAM_0005388</td>\n",
       "      <td>ISIC_0027815</td>\n",
       "      <td>bkl</td>\n",
       "      <td>histo</td>\n",
       "      <td>80.0</td>\n",
       "      <td>male</td>\n",
       "      <td>chest</td>\n",
       "      <td>2</td>\n",
       "      <td>../SkinLesionClassifier_data/HAM10000_images_p...</td>\n",
       "      <td>[[[0, 0, 0], [0, 0, 0], [1, 1, 1], [6, 4, 7], ...</td>\n",
       "    </tr>\n",
       "  </tbody>\n",
       "</table>\n",
       "</div>"
      ],
      "text/plain": [
       "      lesion_id      image_id   dx dx_type   age     sex localization  \\\n",
       "10  HAM_0001396  ISIC_0025276  bkl   histo  55.0  female        trunk   \n",
       "15  HAM_0007207  ISIC_0031326  bkl   histo  65.0    male         back   \n",
       "20  HAM_0006071  ISIC_0032343  bkl   histo  70.0  female         face   \n",
       "33  HAM_0005612  ISIC_0024981  bkl   histo  80.0    male        scalp   \n",
       "34  HAM_0005388  ISIC_0027815  bkl   histo  80.0    male        chest   \n",
       "\n",
       "    cell_type_idx                                               path  \\\n",
       "10              2  ../SkinLesionClassifier_data/HAM10000_images_p...   \n",
       "15              2  ../SkinLesionClassifier_data/HAM10000_images_p...   \n",
       "20              2  ../SkinLesionClassifier_data/HAM10000_images_p...   \n",
       "33              2  ../SkinLesionClassifier_data/HAM10000_images_p...   \n",
       "34              2  ../SkinLesionClassifier_data/HAM10000_images_p...   \n",
       "\n",
       "                                                image  \n",
       "10  [[[22, 13, 16], [22, 11, 15], [22, 11, 15], [2...  \n",
       "15  [[[202, 160, 180], [198, 159, 178], [197, 160,...  \n",
       "20  [[[0, 0, 0], [0, 0, 0], [0, 0, 0], [0, 0, 0], ...  \n",
       "33  [[[204, 209, 213], [205, 204, 209], [205, 203,...  \n",
       "34  [[[0, 0, 0], [0, 0, 0], [1, 1, 1], [6, 4, 7], ...  "
      ]
     },
     "execution_count": 17,
     "metadata": {},
     "output_type": "execute_result"
    }
   ],
   "source": [
    "skin_df_uniq.head()"
   ]
  },
  {
   "cell_type": "markdown",
   "metadata": {},
   "source": [
    "### Train and test split"
   ]
  },
  {
   "cell_type": "markdown",
   "metadata": {},
   "source": [
    "Next, we want to split the data into training and test sets"
   ]
  },
  {
   "cell_type": "code",
   "execution_count": 18,
   "metadata": {},
   "outputs": [],
   "source": [
    "features = skin_df_uniq.drop('cell_type_idx', axis = 1)\n",
    "target = skin_df_uniq['cell_type_idx']"
   ]
  },
  {
   "cell_type": "code",
   "execution_count": 19,
   "metadata": {},
   "outputs": [],
   "source": [
    "x_train_o, x_test_o, Y_train, Y_test = train_test_split(features, target, test_size=0.20,random_state=118)"
   ]
  },
  {
   "cell_type": "code",
   "execution_count": 20,
   "metadata": {},
   "outputs": [],
   "source": [
    "x_train_o = x_train_o.reset_index(drop = True)\n",
    "x_test_o = x_test_o.reset_index(drop = True)\n",
    "Y_train = Y_train.reset_index(drop = True)\n",
    "Y_test = Y_test.reset_index(drop = True)"
   ]
  },
  {
   "cell_type": "markdown",
   "metadata": {},
   "source": [
    "### Imbalance class"
   ]
  },
  {
   "cell_type": "markdown",
   "metadata": {},
   "source": [
    "We noticed from earlier that class 'nv' has dominated significantly more than the other classes. To ease future trouble cased by imbalanced classes, we will manually create more training samples for the other classes."
   ]
  },
  {
   "cell_type": "code",
   "execution_count": 21,
   "metadata": {},
   "outputs": [
    {
     "data": {
      "text/html": [
       "<div>\n",
       "<style scoped>\n",
       "    .dataframe tbody tr th:only-of-type {\n",
       "        vertical-align: middle;\n",
       "    }\n",
       "\n",
       "    .dataframe tbody tr th {\n",
       "        vertical-align: top;\n",
       "    }\n",
       "\n",
       "    .dataframe thead th {\n",
       "        text-align: right;\n",
       "    }\n",
       "</style>\n",
       "<table border=\"1\" class=\"dataframe\">\n",
       "  <thead>\n",
       "    <tr style=\"text-align: right;\">\n",
       "      <th></th>\n",
       "      <th>lesion_id</th>\n",
       "      <th>image_id</th>\n",
       "      <th>dx</th>\n",
       "      <th>dx_type</th>\n",
       "      <th>age</th>\n",
       "      <th>sex</th>\n",
       "      <th>localization</th>\n",
       "      <th>path</th>\n",
       "      <th>image</th>\n",
       "    </tr>\n",
       "  </thead>\n",
       "  <tbody>\n",
       "    <tr>\n",
       "      <th>0</th>\n",
       "      <td>HAM_0007508</td>\n",
       "      <td>ISIC_0025763</td>\n",
       "      <td>nv</td>\n",
       "      <td>histo</td>\n",
       "      <td>50.0</td>\n",
       "      <td>male</td>\n",
       "      <td>chest</td>\n",
       "      <td>../SkinLesionClassifier_data/HAM10000_images_p...</td>\n",
       "      <td>[[[124, 107, 113], [126, 109, 115], [124, 110,...</td>\n",
       "    </tr>\n",
       "    <tr>\n",
       "      <th>1</th>\n",
       "      <td>HAM_0004054</td>\n",
       "      <td>ISIC_0031756</td>\n",
       "      <td>nv</td>\n",
       "      <td>histo</td>\n",
       "      <td>70.0</td>\n",
       "      <td>male</td>\n",
       "      <td>hand</td>\n",
       "      <td>../SkinLesionClassifier_data/HAM10000_images_p...</td>\n",
       "      <td>[[[167, 117, 106], [168, 120, 108], [170, 121,...</td>\n",
       "    </tr>\n",
       "    <tr>\n",
       "      <th>2</th>\n",
       "      <td>HAM_0003661</td>\n",
       "      <td>ISIC_0026910</td>\n",
       "      <td>nv</td>\n",
       "      <td>follow_up</td>\n",
       "      <td>35.0</td>\n",
       "      <td>female</td>\n",
       "      <td>trunk</td>\n",
       "      <td>../SkinLesionClassifier_data/HAM10000_images_p...</td>\n",
       "      <td>[[[220, 137, 123], [224, 136, 126], [226, 138,...</td>\n",
       "    </tr>\n",
       "    <tr>\n",
       "      <th>3</th>\n",
       "      <td>HAM_0006994</td>\n",
       "      <td>ISIC_0026987</td>\n",
       "      <td>nv</td>\n",
       "      <td>histo</td>\n",
       "      <td>30.0</td>\n",
       "      <td>male</td>\n",
       "      <td>foot</td>\n",
       "      <td>../SkinLesionClassifier_data/HAM10000_images_p...</td>\n",
       "      <td>[[[95, 48, 56], [97, 50, 58], [99, 50, 54], [9...</td>\n",
       "    </tr>\n",
       "    <tr>\n",
       "      <th>4</th>\n",
       "      <td>HAM_0002050</td>\n",
       "      <td>ISIC_0032215</td>\n",
       "      <td>bkl</td>\n",
       "      <td>histo</td>\n",
       "      <td>40.0</td>\n",
       "      <td>male</td>\n",
       "      <td>scalp</td>\n",
       "      <td>../SkinLesionClassifier_data/HAM10000_images_p...</td>\n",
       "      <td>[[[245, 214, 211], [251, 216, 214], [250, 214,...</td>\n",
       "    </tr>\n",
       "  </tbody>\n",
       "</table>\n",
       "</div>"
      ],
      "text/plain": [
       "     lesion_id      image_id   dx    dx_type   age     sex localization  \\\n",
       "0  HAM_0007508  ISIC_0025763   nv      histo  50.0    male        chest   \n",
       "1  HAM_0004054  ISIC_0031756   nv      histo  70.0    male         hand   \n",
       "2  HAM_0003661  ISIC_0026910   nv  follow_up  35.0  female        trunk   \n",
       "3  HAM_0006994  ISIC_0026987   nv      histo  30.0    male         foot   \n",
       "4  HAM_0002050  ISIC_0032215  bkl      histo  40.0    male        scalp   \n",
       "\n",
       "                                                path  \\\n",
       "0  ../SkinLesionClassifier_data/HAM10000_images_p...   \n",
       "1  ../SkinLesionClassifier_data/HAM10000_images_p...   \n",
       "2  ../SkinLesionClassifier_data/HAM10000_images_p...   \n",
       "3  ../SkinLesionClassifier_data/HAM10000_images_p...   \n",
       "4  ../SkinLesionClassifier_data/HAM10000_images_p...   \n",
       "\n",
       "                                               image  \n",
       "0  [[[124, 107, 113], [126, 109, 115], [124, 110,...  \n",
       "1  [[[167, 117, 106], [168, 120, 108], [170, 121,...  \n",
       "2  [[[220, 137, 123], [224, 136, 126], [226, 138,...  \n",
       "3  [[[95, 48, 56], [97, 50, 58], [99, 50, 54], [9...  \n",
       "4  [[[245, 214, 211], [251, 216, 214], [250, 214,...  "
      ]
     },
     "execution_count": 21,
     "metadata": {},
     "output_type": "execute_result"
    }
   ],
   "source": [
    "X_train = x_train_o\n",
    "X_train.head()"
   ]
  },
  {
   "cell_type": "code",
   "execution_count": 22,
   "metadata": {},
   "outputs": [],
   "source": [
    "Y_train = pd.Series([int(x) for x in Y_train])"
   ]
  },
  {
   "cell_type": "markdown",
   "metadata": {},
   "source": [
    "### Normalization"
   ]
  },
  {
   "cell_type": "markdown",
   "metadata": {},
   "source": [
    "To reduce bias among the pictures, we standardlize the images base on their theoretical mean and standard deviation"
   ]
  },
  {
   "cell_type": "code",
   "execution_count": 23,
   "metadata": {},
   "outputs": [],
   "source": [
    "def compute_img_mean_std(df):\n",
    "    img_RGB = df['image'].values\n",
    "    RGB_vals = []\n",
    "    # for each image, get the mean for each RGB layer\n",
    "    for i in range(len(img_RGB)):\n",
    "        R = img_RGB[i][:,:,0]\n",
    "        G = img_RGB[i][:,:,1]\n",
    "        B = img_RGB[i][:,:,2]\n",
    "        RGB_vals.append([np.mean(R)/255, np.mean(G)/255, np.mean(B)/255])\n",
    "    # compute mean and std\n",
    "    RGB_vals = np.array(RGB_vals)\n",
    "    img_mean = np.mean(RGB_vals, axis = 0)\n",
    "    img_std = np.std(RGB_vals, axis = 0)\n",
    "    return img_mean, img_std\n",
    "        "
   ]
  },
  {
   "cell_type": "code",
   "execution_count": 24,
   "metadata": {},
   "outputs": [],
   "source": [
    "train_mean, train_std = compute_img_mean_std(X_train)\n",
    "test_mean, test_std = compute_img_mean_std(x_test_o)"
   ]
  },
  {
   "cell_type": "code",
   "execution_count": 25,
   "metadata": {
    "scrolled": true
   },
   "outputs": [
    {
     "name": "stdout",
     "output_type": "stream",
     "text": [
      "[0.80599225 0.52574493 0.54294557] [0.08590311 0.08508569 0.09202076]\n"
     ]
    }
   ],
   "source": [
    "print(train_mean, train_std)"
   ]
  },
  {
   "cell_type": "code",
   "execution_count": 26,
   "metadata": {},
   "outputs": [
    {
     "name": "stdout",
     "output_type": "stream",
     "text": [
      "[0.79933838 0.52175165 0.53925165] [0.08701616 0.08624265 0.09363755]\n"
     ]
    }
   ],
   "source": [
    "print(test_mean, test_std)"
   ]
  },
  {
   "cell_type": "markdown",
   "metadata": {},
   "source": [
    "## Image transformation"
   ]
  },
  {
   "cell_type": "code",
   "execution_count": 27,
   "metadata": {},
   "outputs": [],
   "source": [
    "# define an image loader\n",
    "# this part is inspired \n",
    "# https://www.kaggle.com/xinruizhuang/skin-lesion-classification-acc-90-pytorch#Step-1.-Data-analysis-and-preprocessing\n",
    "class HAM10000(Dataset):\n",
    "    def __init__(self, X, Y, transform=None):\n",
    "        self.X = X\n",
    "        self.Y = Y\n",
    "        self.transform = transform\n",
    "\n",
    "    def __len__(self):\n",
    "        return len(self.Y)\n",
    "\n",
    "    def __getitem__(self, index):\n",
    "        # Load data and get label\n",
    "        X = Image.open(self.X['path'][index])\n",
    "        #X = self.X\n",
    "        #y = torch.tensor(int(self.df['cell_type_idx'][index]))\n",
    "        y = torch.tensor(Y_train.values[index])\n",
    "\n",
    "        if self.transform:\n",
    "            X = self.transform(X)\n",
    "\n",
    "        return X, y"
   ]
  },
  {
   "cell_type": "code",
   "execution_count": 28,
   "metadata": {},
   "outputs": [],
   "source": [
    "input_size = 100\n",
    "train_transform = transforms.Compose([transforms.Resize((input_size,input_size)),transforms.RandomHorizontalFlip(),\n",
    "                                      transforms.RandomVerticalFlip(),transforms.RandomRotation(20),\n",
    "                                      transforms.ColorJitter(brightness=0.1, contrast=0.1, hue=0.1),\n",
    "                                        transforms.ToTensor(),\n",
    "                                     transforms.Normalize(train_mean, train_std)])\n",
    "# define the transformation of the val images.\n",
    "test_transform = transforms.Compose([transforms.Resize((input_size,input_size)), transforms.ToTensor(),\n",
    "                                    transforms.Normalize(test_mean, test_std)])"
   ]
  },
  {
   "cell_type": "code",
   "execution_count": 29,
   "metadata": {},
   "outputs": [],
   "source": [
    "training_set = HAM10000(X_train,Y_train, transform=train_transform)\n",
    "trainloader = DataLoader(training_set, batch_size=32, shuffle=True, num_workers=4)\n",
    "\n",
    "testing_set = HAM10000(x_test_o, Y_test,transform=test_transform)\n",
    "testloader = DataLoader(testing_set, batch_size=32, shuffle=True, num_workers=4)"
   ]
  },
  {
   "cell_type": "code",
   "execution_count": 30,
   "metadata": {},
   "outputs": [
    {
     "name": "stdout",
     "output_type": "stream",
     "text": [
      "torch.Size([32, 3, 100, 100])\n",
      "tensor([5, 0, 5, 5, 5, 5, 5, 2, 5, 5, 5, 5, 1, 5, 5, 5, 5, 5, 5, 4, 4, 5, 5, 5,\n",
      "        5, 5, 5, 5, 5, 5, 5, 5])\n"
     ]
    }
   ],
   "source": [
    "## try if trainloader is working\n",
    "for i, data in enumerate(trainloader, 0):\n",
    "    # Get the inputs.\n",
    "    inputs, labels = data\n",
    "    if i == 1:\n",
    "        print(inputs.shape)\n",
    "        print(labels)\n",
    "        break"
   ]
  },
  {
   "cell_type": "markdown",
   "metadata": {},
   "source": [
    "## Network definition"
   ]
  },
  {
   "cell_type": "code",
   "execution_count": 31,
   "metadata": {
    "scrolled": true
   },
   "outputs": [
    {
     "name": "stdout",
     "output_type": "stream",
     "text": [
      "cuda:0\n"
     ]
    }
   ],
   "source": [
    "# If there are GPUs, choose the first one for computing. Otherwise use CPU.\n",
    "device = torch.device(\"cuda:0\" if torch.cuda.is_available() else \"cpu\")\n",
    "print(device)  \n",
    "# If 'cuda:0' is printed, it means GPU is available."
   ]
  },
  {
   "cell_type": "markdown",
   "metadata": {},
   "source": [
    "First let's try a two-layer CNN"
   ]
  },
  {
   "cell_type": "code",
   "execution_count": 85,
   "metadata": {},
   "outputs": [
    {
     "data": {
      "text/plain": [
       "Net(\n",
       "  (conv1): Conv2d(3, 32, kernel_size=(3, 3), stride=(1, 1), padding=(1, 1))\n",
       "  (conv2): Conv2d(32, 32, kernel_size=(3, 3), stride=(1, 1), padding=(1, 1))\n",
       "  (fc2): Linear(in_features=20000, out_features=32, bias=True)\n",
       "  (fc3): Linear(in_features=32, out_features=7, bias=True)\n",
       ")"
      ]
     },
     "execution_count": 85,
     "metadata": {},
     "output_type": "execute_result"
    }
   ],
   "source": [
    "class Net(nn.Module):\n",
    "    def __init__(self):\n",
    "        super(Net, self).__init__()\n",
    "        ###### Fill the blank here ######\n",
    "        # conv layer\n",
    "        self.conv1 = nn.Conv2d(3, 32, 3, stride = 1, padding = 1)\n",
    "        self.conv2 = nn.Conv2d(32, 32, 3, stride = 1, padding = 1)\n",
    "        \n",
    "        # linear layer\n",
    "        #self.fc1 = nn.Linear(20 * 8 * 8, 1280) \n",
    "        self.fc2 = nn.Linear(20000,32)\n",
    "        self.fc3 = nn.Linear(32, 7)\n",
    "       \n",
    "        \n",
    "    def forward(self, x):\n",
    "        ###### Fill the blank here ######\n",
    "        # two rounds of avg pooling\n",
    "        # avg pooling over a (2, 2) window\n",
    "        x = F.avg_pool2d(F.relu(self.conv1(x)), (2, 2))\n",
    "        # If the size is a square you can only specify a single number\n",
    "        x = F.avg_pool2d(F.relu(self.conv2(x)), 2)\n",
    "        \n",
    "        \n",
    "        x = x.view(-1, self.num_flat_features(x))\n",
    "        #x = self.fc1(x)\n",
    "        x = F.relu(self.fc2(x))\n",
    "        x = self.fc3(x)\n",
    " \n",
    "        return x\n",
    "\n",
    "    def num_flat_features(self, x): # flatten matrix\n",
    "        size = x.size()[1:]  # all dimensions except the batch dimension\n",
    "        num_features = 1\n",
    "        for s in size:\n",
    "            num_features *= s\n",
    "        return num_features\n",
    "\n",
    "net = Net()     # Create the network instance.\n",
    "net.to(device)  # Move the network parameters to the specified device."
   ]
  },
  {
   "cell_type": "markdown",
   "metadata": {},
   "source": [
    "#### Optimizer and Loss Function"
   ]
  },
  {
   "cell_type": "code",
   "execution_count": 86,
   "metadata": {},
   "outputs": [],
   "source": [
    "# We use cross-entropy as loss function.\n",
    "loss_func = nn.CrossEntropyLoss()  \n",
    "# We use stochastic gradient descent (SGD) as optimizer.\n",
    "opt = optim.SGD(net.parameters(), lr=0.001, momentum=0.9) "
   ]
  },
  {
   "cell_type": "markdown",
   "metadata": {},
   "source": [
    "## Training Procedure"
   ]
  },
  {
   "cell_type": "code",
   "execution_count": 87,
   "metadata": {},
   "outputs": [
    {
     "name": "stdout",
     "output_type": "stream",
     "text": [
      "[epoch: 0, i:    99] avg mini-batch loss: 0.838\n",
      "[epoch: 1, i:    99] avg mini-batch loss: 0.609\n",
      "[epoch: 2, i:    99] avg mini-batch loss: 0.578\n",
      "[epoch: 3, i:    99] avg mini-batch loss: 0.570\n",
      "[epoch: 4, i:    99] avg mini-batch loss: 0.544\n",
      "[epoch: 5, i:    99] avg mini-batch loss: 0.560\n",
      "[epoch: 6, i:    99] avg mini-batch loss: 0.536\n",
      "[epoch: 7, i:    99] avg mini-batch loss: 0.539\n",
      "[epoch: 8, i:    99] avg mini-batch loss: 0.524\n",
      "[epoch: 9, i:    99] avg mini-batch loss: 0.529\n",
      "Finished Training.\n"
     ]
    }
   ],
   "source": [
    "avg_losses = []   # Avg. losses.\n",
    "epochs = 10       # Total epochs.\n",
    "print_freq = 100  # Print frequency.\n",
    "\n",
    "for epoch in range(epochs):  # Loop over the dataset multiple times.\n",
    "    running_loss = 0.0       # Initialize running loss.\n",
    "    for i, data in enumerate(trainloader, 0):\n",
    "        # Get the inputs.\n",
    "        inputs, labels = data\n",
    "        \n",
    "        # Move the inputs to the specified device.\n",
    "        inputs, labels = inputs.to(device), labels.to(device)\n",
    "        \n",
    "        # Zero the parameter gradients.\n",
    "        opt.zero_grad()\n",
    "\n",
    "        # Forward step.\n",
    "        outputs = net(inputs)\n",
    "        loss = loss_func(outputs, labels)\n",
    "        \n",
    "        # Backward step.\n",
    "        loss.backward()\n",
    "        \n",
    "        # Optimization step (update the parameters).\n",
    "        opt.step()\n",
    "\n",
    "        # Print statistics.\n",
    "        running_loss += loss.item()\n",
    "        if i % print_freq == print_freq - 1: # Print every several mini-batches.\n",
    "            avg_loss = running_loss / print_freq\n",
    "            print('[epoch: {}, i: {:5d}] avg mini-batch loss: {:.3f}'.format(\n",
    "                epoch, i, avg_loss))\n",
    "            avg_losses.append(avg_loss)\n",
    "            running_loss = 0.0\n",
    "\n",
    "print('Finished Training.')"
   ]
  },
  {
   "cell_type": "markdown",
   "metadata": {},
   "source": [
    "#### Training Loss Curve"
   ]
  },
  {
   "cell_type": "code",
   "execution_count": 88,
   "metadata": {},
   "outputs": [
    {
     "data": {
      "image/png": "[encoded data removed]",
      "text/plain": [
       "<Figure size 432x288 with 1 Axes>"
      ]
     },
     "metadata": {
      "needs_background": "light"
     },
     "output_type": "display_data"
    }
   ],
   "source": [
    "plt.plot(avg_losses)\n",
    "plt.xlabel('mini-batch index / {}'.format(print_freq))\n",
    "plt.ylabel('avg. mini-batch loss')\n",
    "plt.show()"
   ]
  },
  {
   "cell_type": "code",
   "execution_count": 100,
   "metadata": {},
   "outputs": [
    {
     "name": "stdout",
     "output_type": "stream",
     "text": [
      "train accuracy: 82.81568805259579\n",
      "test accuracy: 74.1613780598368\n"
     ]
    }
   ],
   "source": [
    "r_cnn_train = check_accuracy(device,net,7,trainloader)\n",
    "r_cnn_test = check_accuracy(device,net,7,testloader)\n",
    "print(\"train accuracy: \" + str(r_cnn_train))\n",
    "print(\"test accuracy: \" + str(r_cnn_test))"
   ]
  },
  {
   "cell_type": "code",
   "execution_count": 101,
   "metadata": {},
   "outputs": [
    {
     "name": "stdout",
     "output_type": "stream",
     "text": [
      "Accuracy of akiec :  4 %\n",
      "Accuracy of   bcc : 59 %\n",
      "Accuracy of   bkl : 34 %\n",
      "Accuracy of    df :  0 %\n",
      "Accuracy of   mel : 12 %\n",
      "Accuracy of    nv : 96 %\n",
      "Accuracy of  vasc : 11 %\n"
     ]
    }
   ],
   "source": [
    "each_cnn_train = accuracy_each_classes(device,net,7,trainloader,skin_df_uniq)"
   ]
  },
  {
   "cell_type": "code",
   "execution_count": 102,
   "metadata": {
    "scrolled": true
   },
   "outputs": [
    {
     "name": "stdout",
     "output_type": "stream",
     "text": [
      "Accuracy of akiec :  0 %\n",
      "Accuracy of   bcc :  5 %\n",
      "Accuracy of   bkl :  5 %\n",
      "Accuracy of    df :  0 %\n",
      "Accuracy of   mel :  7 %\n",
      "Accuracy of    nv : 90 %\n",
      "Accuracy of  vasc :  0 %\n"
     ]
    }
   ],
   "source": [
    "each_cnn_test = accuracy_each_classes(device,net,7,testloader,skin_df_uniq)"
   ]
  },
  {
   "cell_type": "markdown",
   "metadata": {},
   "source": [
    "# Other Models"
   ]
  },
  {
   "cell_type": "code",
   "execution_count": 35,
   "metadata": {},
   "outputs": [],
   "source": [
    "def convert_relu_to_sigmoid(model):\n",
    "    for child_name, child in model.named_children():\n",
    "        if isinstance(child, nn.ReLU):\n",
    "            setattr(model, child_name, nn.Sigmoid())\n",
    "        else:\n",
    "            convert_relu_to_sigmoid(child)"
   ]
  },
  {
   "cell_type": "code",
   "execution_count": 36,
   "metadata": {},
   "outputs": [],
   "source": [
    "def set_parameter_requires_grad(model, feature_extracting):\n",
    "    if feature_extracting:\n",
    "        for param in model.parameters():\n",
    "            param.requires_grad = False"
   ]
  },
  {
   "cell_type": "code",
   "execution_count": 43,
   "metadata": {},
   "outputs": [],
   "source": [
    "def check_accuracy(device,model,classes,loader):\n",
    "    # Get test accuracy.\n",
    "    correct = 0\n",
    "    total = 0\n",
    "    with torch.no_grad():\n",
    "        for data in loader:\n",
    "            images, labels = data\n",
    "            images, labels = images.to(device), labels.to(device)\n",
    "            outputs = model(images)\n",
    "            _, predicted = torch.max(outputs.data, 1)\n",
    "            total += labels.size(0)\n",
    "            correct += (predicted == labels).sum().item()\n",
    "    return 100 * correct / total"
   ]
  },
  {
   "cell_type": "code",
   "execution_count": 44,
   "metadata": {},
   "outputs": [],
   "source": [
    "def accuracy_each_classes(device,model,classes,loader,skin_df_uniq):\n",
    "    # Get test accuracy for each class.\n",
    "    classes = list(skin_df_uniq['dx'].unique())\n",
    "    classes = sorted(classes)\n",
    "    class_correct = list(0. for i in range(7))\n",
    "    class_total = list(0. for i in range(7))\n",
    "\n",
    "    y_label = []\n",
    "    y_predict = []\n",
    "\n",
    "\n",
    "    with torch.no_grad():\n",
    "        for data in loader:\n",
    "            images, labels = data\n",
    "            images, labels = images.to(device), labels.to(device)\n",
    "            outputs = model(images)\n",
    "            _, predicted = torch.max(outputs, 1)\n",
    "            c = (predicted == labels).squeeze()\n",
    "\n",
    "            y_label.extend(labels.cpu().numpy())\n",
    "            y_predict.extend(np.squeeze(predicted.cpu().numpy().T))\n",
    "\n",
    "            for i in range(len(labels)):\n",
    "                label = labels[i]\n",
    "                class_correct[label] += c[i].item()\n",
    "                class_total[label] += 1\n",
    "\n",
    "    result = {}\n",
    "    for i in range(7):\n",
    "        print('Accuracy of %5s : %2d %%' % (\n",
    "            classes[i], 100 * class_correct[i] / class_total[i]))\n",
    "        result[classes[i]] = 100 * class_correct[i] / class_total[i]\n",
    "    return result"
   ]
  },
  {
   "cell_type": "code",
   "execution_count": 45,
   "metadata": {},
   "outputs": [],
   "source": [
    "opt_types = [\"SGD\",\"Adam\"]\n",
    "activations = [\"relu\",\"sigmoid\"]"
   ]
  },
  {
   "cell_type": "markdown",
   "metadata": {},
   "source": [
    "## Resnet"
   ]
  },
  {
   "cell_type": "code",
   "execution_count": 108,
   "metadata": {},
   "outputs": [],
   "source": [
    "def resnet_models(model_name,num_classes,feature_extract, use_pretrained=True):\n",
    "        # Initialize these variables which will be set in this if statement. Each of these\n",
    "    #   variables is model specific.\n",
    "    model_ft = None\n",
    "    input_size = 0\n",
    "\n",
    "    if model_name == \"Resnet50\":\n",
    "        model_ft = torchvision.models.resnet50(pretrained=use_pretrained)\n",
    "        \n",
    "    elif model_name == \"Resnet152\":\n",
    "        model_ft = torchvision.models.resnet152(pretrained=use_pretrained)\n",
    "\n",
    "    else:\n",
    "        print(\"Invalid model name, exiting...\")\n",
    "        exit()\n",
    "    set_parameter_requires_grad(model_ft, feature_extract)\n",
    "    num_ftrs = model_ft.fc.in_features\n",
    "    model_ft.fc = nn.Linear(num_ftrs, num_classes)\n",
    "    return model_ft"
   ]
  },
  {
   "cell_type": "code",
   "execution_count": 109,
   "metadata": {},
   "outputs": [],
   "source": [
    "resnet_types = [\"Resnet50\",\"Resnet152\"]"
   ]
  },
  {
   "cell_type": "code",
   "execution_count": 112,
   "metadata": {},
   "outputs": [
    {
     "name": "stdout",
     "output_type": "stream",
     "text": [
      "Resnet50_relu_SGD\n"
     ]
    },
    {
     "data": {
      "image/png": "[encoded data removed]",
      "text/plain": [
       "<Figure size 432x288 with 1 Axes>"
      ]
     },
     "metadata": {
      "needs_background": "light"
     },
     "output_type": "display_data"
    },
    {
     "name": "stdout",
     "output_type": "stream",
     "text": [
      "train accuracy: 82.52097030151893\n",
      "test accuracy: 74.1613780598368\n",
      "train accuracy for each class\n",
      "Accuracy of akiec : 45 %\n",
      "Accuracy of   bcc : 79 %\n",
      "Accuracy of   bkl : 80 %\n",
      "Accuracy of    df : 76 %\n",
      "Accuracy of   mel : 57 %\n",
      "Accuracy of    nv : 97 %\n",
      "Accuracy of  vasc : 90 %\n",
      "test accuracy for each class\n",
      "Accuracy of akiec :  4 %\n",
      "Accuracy of   bcc :  5 %\n",
      "Accuracy of   bkl :  9 %\n",
      "Accuracy of    df :  0 %\n",
      "Accuracy of   mel :  4 %\n",
      "Accuracy of    nv : 82 %\n",
      "Accuracy of  vasc :  0 %\n",
      "\n",
      "\n",
      "Resnet50_relu_Adam\n"
     ]
    },
    {
     "data": {
      "image/png": "[encoded data removed]",
      "text/plain": [
       "<Figure size 432x288 with 1 Axes>"
      ]
     },
     "metadata": {
      "needs_background": "light"
     },
     "output_type": "display_data"
    },
    {
     "name": "stdout",
     "output_type": "stream",
     "text": [
      "train accuracy: 83.17841759238269\n",
      "test accuracy: 74.1613780598368\n",
      "train accuracy for each class\n",
      "Accuracy of akiec : 86 %\n",
      "Accuracy of   bcc : 72 %\n",
      "Accuracy of   bkl : 84 %\n",
      "Accuracy of    df : 76 %\n",
      "Accuracy of   mel : 56 %\n",
      "Accuracy of    nv : 98 %\n",
      "Accuracy of  vasc : 92 %\n",
      "test accuracy for each class\n",
      "Accuracy of akiec :  8 %\n",
      "Accuracy of   bcc :  2 %\n",
      "Accuracy of   bkl : 11 %\n",
      "Accuracy of    df :  0 %\n",
      "Accuracy of   mel :  4 %\n",
      "Accuracy of    nv : 81 %\n",
      "Accuracy of  vasc :  0 %\n",
      "\n",
      "\n",
      "Resnet50_sigmoid_SGD\n"
     ]
    },
    {
     "data": {
      "image/png": "[encoded data removed]",
      "text/plain": [
       "<Figure size 432x288 with 1 Axes>"
      ]
     },
     "metadata": {
      "needs_background": "light"
     },
     "output_type": "display_data"
    },
    {
     "name": "stdout",
     "output_type": "stream",
     "text": [
      "train accuracy: 82.52097030151893\n",
      "test accuracy: 74.1613780598368\n",
      "train accuracy for each class\n",
      "Accuracy of akiec :  0 %\n",
      "Accuracy of   bcc :  0 %\n",
      "Accuracy of   bkl :  0 %\n",
      "Accuracy of    df :  0 %\n",
      "Accuracy of   mel : 67 %\n",
      "Accuracy of    nv : 93 %\n",
      "Accuracy of  vasc :  0 %\n",
      "test accuracy for each class\n",
      "Accuracy of akiec :  0 %\n",
      "Accuracy of   bcc :  0 %\n",
      "Accuracy of   bkl :  0 %\n",
      "Accuracy of    df :  0 %\n",
      "Accuracy of   mel : 24 %\n",
      "Accuracy of    nv : 83 %\n",
      "Accuracy of  vasc :  0 %\n",
      "\n",
      "\n",
      "Resnet50_sigmoid_Adam\n"
     ]
    },
    {
     "data": {
      "image/png": "[encoded data removed]",
      "text/plain": [
       "<Figure size 432x288 with 1 Axes>"
      ]
     },
     "metadata": {
      "needs_background": "light"
     },
     "output_type": "display_data"
    },
    {
     "name": "stdout",
     "output_type": "stream",
     "text": [
      "train accuracy: 82.92904103377919\n",
      "test accuracy: 74.1613780598368\n",
      "train accuracy for each class\n",
      "Accuracy of akiec :  0 %\n",
      "Accuracy of   bcc :  0 %\n",
      "Accuracy of   bkl : 60 %\n",
      "Accuracy of    df :  0 %\n",
      "Accuracy of   mel :  0 %\n",
      "Accuracy of    nv : 95 %\n",
      "Accuracy of  vasc :  0 %\n",
      "test accuracy for each class\n",
      "Accuracy of akiec :  0 %\n",
      "Accuracy of   bcc :  0 %\n",
      "Accuracy of   bkl : 14 %\n",
      "Accuracy of    df :  0 %\n",
      "Accuracy of   mel :  0 %\n",
      "Accuracy of    nv : 83 %\n",
      "Accuracy of  vasc :  0 %\n",
      "\n",
      "\n",
      "Resnet152_relu_SGD\n"
     ]
    },
    {
     "data": {
      "image/png": "[encoded data removed]",
      "text/plain": [
       "<Figure size 432x288 with 1 Axes>"
      ]
     },
     "metadata": {
      "needs_background": "light"
     },
     "output_type": "display_data"
    },
    {
     "name": "stdout",
     "output_type": "stream",
     "text": [
      "train accuracy: 83.24642938109272\n",
      "test accuracy: 74.1613780598368\n",
      "train accuracy for each class\n",
      "Accuracy of akiec : 60 %\n",
      "Accuracy of   bcc : 77 %\n",
      "Accuracy of   bkl : 74 %\n",
      "Accuracy of    df : 66 %\n",
      "Accuracy of   mel : 44 %\n",
      "Accuracy of    nv : 98 %\n",
      "Accuracy of  vasc : 90 %\n",
      "test accuracy for each class\n",
      "Accuracy of akiec :  4 %\n",
      "Accuracy of   bcc :  2 %\n",
      "Accuracy of   bkl :  9 %\n",
      "Accuracy of    df :  0 %\n",
      "Accuracy of   mel :  2 %\n",
      "Accuracy of    nv : 90 %\n",
      "Accuracy of  vasc :  0 %\n",
      "\n",
      "\n",
      "Resnet152_relu_Adam\n"
     ]
    },
    {
     "data": {
      "image/png": "[encoded data removed]",
      "text/plain": [
       "<Figure size 432x288 with 1 Axes>"
      ]
     },
     "metadata": {
      "needs_background": "light"
     },
     "output_type": "display_data"
    },
    {
     "name": "stdout",
     "output_type": "stream",
     "text": [
      "train accuracy: 82.88369984130583\n",
      "test accuracy: 74.1613780598368\n",
      "train accuracy for each class\n",
      "Accuracy of akiec : 51 %\n",
      "Accuracy of   bcc : 93 %\n",
      "Accuracy of   bkl : 74 %\n",
      "Accuracy of    df : 83 %\n",
      "Accuracy of   mel : 60 %\n",
      "Accuracy of    nv : 98 %\n",
      "Accuracy of  vasc : 96 %\n",
      "test accuracy for each class\n",
      "Accuracy of akiec :  0 %\n",
      "Accuracy of   bcc :  5 %\n",
      "Accuracy of   bkl :  6 %\n",
      "Accuracy of    df :  0 %\n",
      "Accuracy of   mel :  7 %\n",
      "Accuracy of    nv : 82 %\n",
      "Accuracy of  vasc :  0 %\n",
      "\n",
      "\n",
      "Resnet152_sigmoid_SGD\n"
     ]
    },
    {
     "data": {
      "image/png": "[encoded data removed]",
      "text/plain": [
       "<Figure size 432x288 with 1 Axes>"
      ]
     },
     "metadata": {
      "needs_background": "light"
     },
     "output_type": "display_data"
    },
    {
     "name": "stdout",
     "output_type": "stream",
     "text": [
      "train accuracy: 82.7930174563591\n",
      "test accuracy: 74.1613780598368\n",
      "train accuracy for each class\n",
      "Accuracy of akiec :  0 %\n",
      "Accuracy of   bcc :  0 %\n",
      "Accuracy of   bkl :  0 %\n",
      "Accuracy of    df :  0 %\n",
      "Accuracy of   mel :  0 %\n",
      "Accuracy of    nv : 100 %\n",
      "Accuracy of  vasc :  0 %\n",
      "test accuracy for each class\n",
      "Accuracy of akiec :  0 %\n",
      "Accuracy of   bcc :  0 %\n",
      "Accuracy of   bkl :  0 %\n",
      "Accuracy of    df :  0 %\n",
      "Accuracy of   mel :  0 %\n",
      "Accuracy of    nv : 100 %\n",
      "Accuracy of  vasc :  0 %\n",
      "\n",
      "\n",
      "Resnet152_sigmoid_Adam\n"
     ]
    },
    {
     "data": {
      "image/png": "[encoded data removed]",
      "text/plain": [
       "<Figure size 432x288 with 1 Axes>"
      ]
     },
     "metadata": {
      "needs_background": "light"
     },
     "output_type": "display_data"
    },
    {
     "name": "stdout",
     "output_type": "stream",
     "text": [
      "train accuracy: 82.92904103377919\n",
      "test accuracy: 74.1613780598368\n",
      "train accuracy for each class\n",
      "Accuracy of akiec :  0 %\n",
      "Accuracy of   bcc :  0 %\n",
      "Accuracy of   bkl :  0 %\n",
      "Accuracy of    df :  0 %\n",
      "Accuracy of   mel :  0 %\n",
      "Accuracy of    nv : 100 %\n",
      "Accuracy of  vasc :  0 %\n",
      "test accuracy for each class\n",
      "Accuracy of akiec :  0 %\n",
      "Accuracy of   bcc :  0 %\n",
      "Accuracy of   bkl :  0 %\n",
      "Accuracy of    df :  0 %\n",
      "Accuracy of   mel :  0 %\n",
      "Accuracy of    nv : 100 %\n",
      "Accuracy of  vasc :  0 %\n",
      "\n",
      "\n"
     ]
    }
   ],
   "source": [
    "num_classes = 7\n",
    "resnet_train = {}\n",
    "resnet_test = {}\n",
    "resnet_train_class = []\n",
    "resnet_test_class = []\n",
    "titles = []\n",
    "for k in resnet_types:\n",
    "    for n in activations:\n",
    "        for m in opt_types:\n",
    "                # Initialize the model for this run\n",
    "                model_c = resnet_models(k, num_classes,False)\n",
    "                \n",
    "                #choose activation function\n",
    "                if n==\"sigmoid\":\n",
    "                    convert_relu_to_sigmoid(model_c)\n",
    "                \n",
    "                # Define the device:\n",
    "                device = torch.device('cuda:0')\n",
    "                # Put the model on the device:\n",
    "                model = model_c.to(device)\n",
    "                avg_losses = []   # Avg. losses.\n",
    "                \n",
    "                \n",
    "                # We use cross-entropy as loss function.\n",
    "                loss_func = nn.CrossEntropyLoss()\n",
    "                #choose optimizer\n",
    "                if m == \"SGD\":\n",
    "                    # We use stochastic gradient descent (SGD) as optimizer.\n",
    "                    opt = optim.SGD(model.parameters(), lr=0.001, momentum=0.9)\n",
    "                else:\n",
    "                    # We use Adam as optimizer.\n",
    "                    opt= optim.Adam(model.parameters(), lr=0.0001)\n",
    "\n",
    "                epochs = 10       # Total epochs.\n",
    "                print_freq = 100  # Print frequency.\n",
    "\n",
    "                for epoch in range(epochs):  # Loop over the dataset multiple times.\n",
    "                    running_loss = 0.0       # Initialize running loss.\n",
    "                    for i, data in enumerate(trainloader, 0):\n",
    "                        # Get the inputs.\n",
    "                        inputs, labels = data\n",
    "\n",
    "                        # Move the inputs to the specified device.\n",
    "                        inputs, labels = inputs.to(device), labels.to(device)\n",
    "\n",
    "                        # Zero the parameter gradients.\n",
    "                        opt.zero_grad()\n",
    "\n",
    "                        # Forward step.\n",
    "                        outputs = model(inputs)\n",
    "                        loss = loss_func(outputs, labels)\n",
    "\n",
    "                        # Backward step.\n",
    "                        loss.backward()\n",
    "\n",
    "                        # Optimization step (update the parameters).\n",
    "                        opt.step()\n",
    "\n",
    "                        # Print statistics.\n",
    "                        running_loss += loss.item()\n",
    "                        if i % print_freq == print_freq - 1: # Print every several mini-batches.\n",
    "                            avg_loss = running_loss / print_freq\n",
    "                            avg_losses.append(avg_loss)\n",
    "                            running_loss = 0.0\n",
    "                #print type of model\n",
    "                title = k+\"_\"+n+\"_\"+m\n",
    "                titles.append(title)\n",
    "                print(title)\n",
    "                \n",
    "                #train error curve\n",
    "                plt.plot(avg_losses)\n",
    "                plt.xlabel('mini-batch index / {}'.format(print_freq))\n",
    "                plt.ylabel('avg. mini-batch loss')\n",
    "                plt.show()\n",
    "                \n",
    "                # Get  accuracy.\n",
    "                train_accuracy = check_accuracy(device,model,num_classes,trainloader)\n",
    "                test_accuracy = check_accuracy(device,model,num_classes,testloader)\n",
    "                resnet_train[title] = train_accuracy\n",
    "                resnet_test[title] = test_accuracy\n",
    "                print(\"train accuracy: \" + str(train_accuracy))\n",
    "                print(\"test accuracy: \" + str(test_accuracy))\n",
    "                print(\"train accuracy for each class\")\n",
    "                resnet_train_class.append(accuracy_each_classes(device,model,num_classes,trainloader,skin_df_uniq))\n",
    "                print(\"test accuracy for each class\")\n",
    "                resnet_test_class.append(accuracy_each_classes(device,model,num_classes,testloader,skin_df_uniq))\n",
    "                print(\"\\n\")"
   ]
  },
  {
   "cell_type": "code",
   "execution_count": 115,
   "metadata": {},
   "outputs": [
    {
     "data": {
      "text/plain": [
       "{'Resnet50_relu_SGD': 82.52097030151893,\n",
       " 'Resnet50_relu_Adam': 83.17841759238269,\n",
       " 'Resnet50_sigmoid_SGD': 82.52097030151893,\n",
       " 'Resnet50_sigmoid_Adam': 82.92904103377919,\n",
       " 'Resnet152_relu_SGD': 83.24642938109272,\n",
       " 'Resnet152_relu_Adam': 82.88369984130583,\n",
       " 'Resnet152_sigmoid_SGD': 82.7930174563591,\n",
       " 'Resnet152_sigmoid_Adam': 82.92904103377919}"
      ]
     },
     "execution_count": 115,
     "metadata": {},
     "output_type": "execute_result"
    }
   ],
   "source": [
    "resnet_train"
   ]
  },
  {
   "cell_type": "code",
   "execution_count": 116,
   "metadata": {},
   "outputs": [
    {
     "data": {
      "text/plain": [
       "{'Resnet50_relu_SGD': 74.1613780598368,\n",
       " 'Resnet50_relu_Adam': 74.1613780598368,\n",
       " 'Resnet50_sigmoid_SGD': 74.1613780598368,\n",
       " 'Resnet50_sigmoid_Adam': 74.1613780598368,\n",
       " 'Resnet152_relu_SGD': 74.1613780598368,\n",
       " 'Resnet152_relu_Adam': 74.1613780598368,\n",
       " 'Resnet152_sigmoid_SGD': 74.1613780598368,\n",
       " 'Resnet152_sigmoid_Adam': 74.1613780598368}"
      ]
     },
     "execution_count": 116,
     "metadata": {},
     "output_type": "execute_result"
    }
   ],
   "source": [
    "resnet_test"
   ]
  },
  {
   "cell_type": "code",
   "execution_count": null,
   "metadata": {},
   "outputs": [],
   "source": []
  },
  {
   "cell_type": "markdown",
   "metadata": {},
   "source": [
    "## Vgg"
   ]
  },
  {
   "cell_type": "code",
   "execution_count": 46,
   "metadata": {},
   "outputs": [],
   "source": [
    "def vgg_models(model_name,num_classes,feature_extract, use_pretrained=True):\n",
    "        # Initialize these variables which will be set in this if statement. Each of these\n",
    "    #   variables is model specific.\n",
    "    model_ft = None\n",
    "    input_size = 0\n",
    "\n",
    "    if model_name == \"vgg11\":\n",
    "        model_ft = torchvision.models.vgg11(pretrained=use_pretrained)\n",
    "        \n",
    "    elif model_name == \"vgg11_bn\":\n",
    "        model_ft = torchvision.models.vgg11_bn(pretrained=use_pretrained)\n",
    "    \n",
    "    elif model_name == \"vgg19\":\n",
    "        model_ft = torchvision.models.vgg19(pretrained=use_pretrained)\n",
    "\n",
    "    else:\n",
    "        print(\"Invalid model name, exiting...\")\n",
    "        exit()\n",
    "    set_parameter_requires_grad(model_ft, feature_extract)\n",
    "    num_ftrs = model_ft.classifier[6].in_features\n",
    "    model_ft.classifier[6] = nn.Linear(num_ftrs,num_classes)\n",
    "    return model_ft"
   ]
  },
  {
   "cell_type": "code",
   "execution_count": 47,
   "metadata": {},
   "outputs": [],
   "source": [
    "vgg_types = ['vgg11',\"vgg11_bn\",\"vgg19\"]"
   ]
  },
  {
   "cell_type": "code",
   "execution_count": 48,
   "metadata": {},
   "outputs": [
    {
     "name": "stdout",
     "output_type": "stream",
     "text": [
      "vgg11_relu_SGD\n"
     ]
    },
    {
     "data": {
      "image/png": "[encoded data removed]",
      "text/plain": [
       "<Figure size 432x288 with 1 Axes>"
      ]
     },
     "metadata": {
      "needs_background": "light"
     },
     "output_type": "display_data"
    },
    {
     "name": "stdout",
     "output_type": "stream",
     "text": [
      "train accuracy: 89.39016096123328\n",
      "test accuracy: 67.45240253853127\n",
      "train accuracy for each class\n",
      "Accuracy of akiec : 48 %\n",
      "Accuracy of   bcc : 64 %\n",
      "Accuracy of   bkl : 61 %\n",
      "Accuracy of    df : 33 %\n",
      "Accuracy of   mel : 53 %\n",
      "Accuracy of    nv : 96 %\n",
      "Accuracy of  vasc : 82 %\n",
      "test accuracy for each class\n",
      "Accuracy of akiec : 16 %\n",
      "Accuracy of   bcc :  2 %\n",
      "Accuracy of   bkl :  7 %\n",
      "Accuracy of    df :  0 %\n",
      "Accuracy of   mel : 12 %\n",
      "Accuracy of    nv : 81 %\n",
      "Accuracy of  vasc :  0 %\n",
      "\n",
      "\n",
      "vgg11_relu_Adam\n"
     ]
    },
    {
     "data": {
      "image/png": "[encoded data removed]",
      "text/plain": [
       "<Figure size 432x288 with 1 Axes>"
      ]
     },
     "metadata": {
      "needs_background": "light"
     },
     "output_type": "display_data"
    },
    {
     "name": "stdout",
     "output_type": "stream",
     "text": [
      "train accuracy: 89.7302199047835\n",
      "test accuracy: 67.81504986400725\n",
      "train accuracy for each class\n",
      "Accuracy of akiec : 55 %\n",
      "Accuracy of   bcc : 81 %\n",
      "Accuracy of   bkl : 59 %\n",
      "Accuracy of    df : 30 %\n",
      "Accuracy of   mel : 42 %\n",
      "Accuracy of    nv : 97 %\n",
      "Accuracy of  vasc : 90 %\n",
      "test accuracy for each class\n",
      "Accuracy of akiec :  8 %\n",
      "Accuracy of   bcc :  2 %\n",
      "Accuracy of   bkl :  3 %\n",
      "Accuracy of    df :  0 %\n",
      "Accuracy of   mel :  7 %\n",
      "Accuracy of    nv : 82 %\n",
      "Accuracy of  vasc :  0 %\n",
      "\n",
      "\n",
      "vgg11_sigmoid_SGD\n"
     ]
    },
    {
     "data": {
      "image/png": "[encoded data removed]",
      "text/plain": [
       "<Figure size 432x288 with 1 Axes>"
      ]
     },
     "metadata": {
      "needs_background": "light"
     },
     "output_type": "display_data"
    },
    {
     "name": "stdout",
     "output_type": "stream",
     "text": [
      "train accuracy: 80.00453411924734\n",
      "test accuracy: 80.96101541251133\n",
      "train accuracy for each class\n",
      "Accuracy of akiec :  0 %\n",
      "Accuracy of   bcc :  0 %\n",
      "Accuracy of   bkl :  0 %\n",
      "Accuracy of    df :  0 %\n",
      "Accuracy of   mel :  0 %\n",
      "Accuracy of    nv : 100 %\n",
      "Accuracy of  vasc :  0 %\n",
      "test accuracy for each class\n",
      "Accuracy of akiec :  0 %\n",
      "Accuracy of   bcc :  0 %\n",
      "Accuracy of   bkl :  0 %\n",
      "Accuracy of    df :  0 %\n",
      "Accuracy of   mel :  0 %\n",
      "Accuracy of    nv : 100 %\n",
      "Accuracy of  vasc :  0 %\n",
      "\n",
      "\n",
      "vgg11_sigmoid_Adam\n"
     ]
    },
    {
     "data": {
      "image/png": "[encoded data removed]",
      "text/plain": [
       "<Figure size 432x288 with 1 Axes>"
      ]
     },
     "metadata": {
      "needs_background": "light"
     },
     "output_type": "display_data"
    },
    {
     "name": "stdout",
     "output_type": "stream",
     "text": [
      "train accuracy: 80.00453411924734\n",
      "test accuracy: 80.96101541251133\n",
      "train accuracy for each class\n",
      "Accuracy of akiec :  0 %\n",
      "Accuracy of   bcc :  0 %\n",
      "Accuracy of   bkl :  0 %\n",
      "Accuracy of    df :  0 %\n",
      "Accuracy of   mel :  0 %\n",
      "Accuracy of    nv : 100 %\n",
      "Accuracy of  vasc :  0 %\n",
      "test accuracy for each class\n",
      "Accuracy of akiec :  0 %\n",
      "Accuracy of   bcc :  0 %\n",
      "Accuracy of   bkl :  0 %\n",
      "Accuracy of    df :  0 %\n",
      "Accuracy of   mel :  0 %\n",
      "Accuracy of    nv : 100 %\n",
      "Accuracy of  vasc :  0 %\n",
      "\n",
      "\n"
     ]
    },
    {
     "name": "stderr",
     "output_type": "stream",
     "text": [
      "Downloading: \"https://download.pytorch.org/models/vgg11_bn-6002323d.pth\" to /tmp/xdg-cache/torch/checkpoints/vgg11_bn-6002323d.pth\n",
      "100%|██████████| 507M/507M [00:03<00:00, 134MB/s]  \n"
     ]
    },
    {
     "name": "stdout",
     "output_type": "stream",
     "text": [
      "vgg11_bn_relu_SGD\n"
     ]
    },
    {
     "data": {
      "image/png": "[encoded data removed]",
      "text/plain": [
       "<Figure size 432x288 with 1 Axes>"
      ]
     },
     "metadata": {
      "needs_background": "light"
     },
     "output_type": "display_data"
    },
    {
     "name": "stdout",
     "output_type": "stream",
     "text": [
      "train accuracy: 91.20380866016777\n",
      "test accuracy: 68.08703535811424\n",
      "train accuracy for each class\n",
      "Accuracy of akiec : 49 %\n",
      "Accuracy of   bcc : 71 %\n",
      "Accuracy of   bkl : 77 %\n",
      "Accuracy of    df : 73 %\n",
      "Accuracy of   mel : 55 %\n",
      "Accuracy of    nv : 97 %\n",
      "Accuracy of  vasc : 86 %\n",
      "test accuracy for each class\n",
      "Accuracy of akiec :  0 %\n",
      "Accuracy of   bcc :  2 %\n",
      "Accuracy of   bkl :  9 %\n",
      "Accuracy of    df :  0 %\n",
      "Accuracy of   mel :  9 %\n",
      "Accuracy of    nv : 81 %\n",
      "Accuracy of  vasc :  0 %\n",
      "\n",
      "\n",
      "vgg11_bn_relu_Adam\n"
     ]
    },
    {
     "data": {
      "image/png": "[encoded data removed]",
      "text/plain": [
       "<Figure size 432x288 with 1 Axes>"
      ]
     },
     "metadata": {
      "needs_background": "light"
     },
     "output_type": "display_data"
    },
    {
     "name": "stdout",
     "output_type": "stream",
     "text": [
      "train accuracy: 93.58422126501927\n",
      "test accuracy: 67.1804170444243\n",
      "train accuracy for each class\n",
      "Accuracy of akiec : 69 %\n",
      "Accuracy of   bcc : 60 %\n",
      "Accuracy of   bkl : 84 %\n",
      "Accuracy of    df : 93 %\n",
      "Accuracy of   mel : 58 %\n",
      "Accuracy of    nv : 98 %\n",
      "Accuracy of  vasc : 96 %\n",
      "test accuracy for each class\n",
      "Accuracy of akiec :  4 %\n",
      "Accuracy of   bcc :  0 %\n",
      "Accuracy of   bkl : 10 %\n",
      "Accuracy of    df :  0 %\n",
      "Accuracy of   mel :  7 %\n",
      "Accuracy of    nv : 80 %\n",
      "Accuracy of  vasc :  0 %\n",
      "\n",
      "\n",
      "vgg11_bn_sigmoid_SGD\n"
     ]
    },
    {
     "data": {
      "image/png": "[encoded data removed]",
      "text/plain": [
       "<Figure size 432x288 with 1 Axes>"
      ]
     },
     "metadata": {
      "needs_background": "light"
     },
     "output_type": "display_data"
    },
    {
     "name": "stdout",
     "output_type": "stream",
     "text": [
      "train accuracy: 80.00453411924734\n",
      "test accuracy: 80.96101541251133\n",
      "train accuracy for each class\n",
      "Accuracy of akiec :  0 %\n",
      "Accuracy of   bcc :  0 %\n",
      "Accuracy of   bkl :  0 %\n",
      "Accuracy of    df :  0 %\n",
      "Accuracy of   mel :  0 %\n",
      "Accuracy of    nv : 100 %\n",
      "Accuracy of  vasc :  0 %\n",
      "test accuracy for each class\n",
      "Accuracy of akiec :  0 %\n",
      "Accuracy of   bcc :  0 %\n",
      "Accuracy of   bkl :  0 %\n",
      "Accuracy of    df :  0 %\n",
      "Accuracy of   mel :  0 %\n",
      "Accuracy of    nv : 100 %\n",
      "Accuracy of  vasc :  0 %\n",
      "\n",
      "\n",
      "vgg11_bn_sigmoid_Adam\n"
     ]
    },
    {
     "data": {
      "image/png": "[encoded data removed]",
      "text/plain": [
       "<Figure size 432x288 with 1 Axes>"
      ]
     },
     "metadata": {
      "needs_background": "light"
     },
     "output_type": "display_data"
    },
    {
     "name": "stdout",
     "output_type": "stream",
     "text": [
      "train accuracy: 78.87100430741329\n",
      "test accuracy: 67.1804170444243\n",
      "train accuracy for each class\n",
      "Accuracy of akiec : 20 %\n",
      "Accuracy of   bcc : 11 %\n",
      "Accuracy of   bkl : 29 %\n",
      "Accuracy of    df :  0 %\n",
      "Accuracy of   mel :  3 %\n",
      "Accuracy of    nv : 93 %\n",
      "Accuracy of  vasc :  0 %\n",
      "test accuracy for each class\n",
      "Accuracy of akiec :  4 %\n",
      "Accuracy of   bcc :  2 %\n",
      "Accuracy of   bkl :  8 %\n",
      "Accuracy of    df :  0 %\n",
      "Accuracy of   mel :  2 %\n",
      "Accuracy of    nv : 82 %\n",
      "Accuracy of  vasc :  0 %\n",
      "\n",
      "\n"
     ]
    },
    {
     "name": "stderr",
     "output_type": "stream",
     "text": [
      "Downloading: \"https://download.pytorch.org/models/vgg19-dcbb9e9d.pth\" to /tmp/xdg-cache/torch/checkpoints/vgg19-dcbb9e9d.pth\n",
      "100%|██████████| 548M/548M [00:04<00:00, 122MB/s]  \n"
     ]
    },
    {
     "name": "stdout",
     "output_type": "stream",
     "text": [
      "vgg19_relu_SGD\n"
     ]
    },
    {
     "data": {
      "image/png": "[encoded data removed]",
      "text/plain": [
       "<Figure size 432x288 with 1 Axes>"
      ]
     },
     "metadata": {
      "needs_background": "light"
     },
     "output_type": "display_data"
    },
    {
     "name": "stdout",
     "output_type": "stream",
     "text": [
      "train accuracy: 87.30446610745862\n",
      "test accuracy: 69.62828649138713\n",
      "train accuracy for each class\n",
      "Accuracy of akiec : 35 %\n",
      "Accuracy of   bcc : 62 %\n",
      "Accuracy of   bkl : 28 %\n",
      "Accuracy of    df : 60 %\n",
      "Accuracy of   mel : 66 %\n",
      "Accuracy of    nv : 97 %\n",
      "Accuracy of  vasc : 82 %\n",
      "test accuracy for each class\n",
      "Accuracy of akiec :  0 %\n",
      "Accuracy of   bcc :  2 %\n",
      "Accuracy of   bkl :  4 %\n",
      "Accuracy of    df :  0 %\n",
      "Accuracy of   mel : 14 %\n",
      "Accuracy of    nv : 83 %\n",
      "Accuracy of  vasc :  0 %\n",
      "\n",
      "\n",
      "vgg19_relu_Adam\n"
     ]
    },
    {
     "data": {
      "image/png": "[encoded data removed]",
      "text/plain": [
       "<Figure size 432x288 with 1 Axes>"
      ]
     },
     "metadata": {
      "needs_background": "light"
     },
     "output_type": "display_data"
    },
    {
     "name": "stdout",
     "output_type": "stream",
     "text": [
      "train accuracy: 87.66719564724552\n",
      "test accuracy: 67.72438803263826\n",
      "train accuracy for each class\n",
      "Accuracy of akiec :  0 %\n",
      "Accuracy of   bcc : 44 %\n",
      "Accuracy of   bkl : 60 %\n",
      "Accuracy of    df :  0 %\n",
      "Accuracy of   mel : 53 %\n",
      "Accuracy of    nv : 97 %\n",
      "Accuracy of  vasc : 86 %\n",
      "test accuracy for each class\n",
      "Accuracy of akiec :  0 %\n",
      "Accuracy of   bcc :  2 %\n",
      "Accuracy of   bkl : 10 %\n",
      "Accuracy of    df :  0 %\n",
      "Accuracy of   mel : 14 %\n",
      "Accuracy of    nv : 81 %\n",
      "Accuracy of  vasc :  0 %\n",
      "\n",
      "\n",
      "vgg19_sigmoid_SGD\n"
     ]
    },
    {
     "data": {
      "image/png": "[encoded data removed]",
      "text/plain": [
       "<Figure size 432x288 with 1 Axes>"
      ]
     },
     "metadata": {
      "needs_background": "light"
     },
     "output_type": "display_data"
    },
    {
     "name": "stdout",
     "output_type": "stream",
     "text": [
      "train accuracy: 80.00453411924734\n",
      "test accuracy: 80.96101541251133\n",
      "train accuracy for each class\n",
      "Accuracy of akiec :  0 %\n",
      "Accuracy of   bcc :  0 %\n",
      "Accuracy of   bkl :  0 %\n",
      "Accuracy of    df :  0 %\n",
      "Accuracy of   mel :  0 %\n",
      "Accuracy of    nv : 100 %\n",
      "Accuracy of  vasc :  0 %\n",
      "test accuracy for each class\n",
      "Accuracy of akiec :  0 %\n",
      "Accuracy of   bcc :  0 %\n",
      "Accuracy of   bkl :  0 %\n",
      "Accuracy of    df :  0 %\n",
      "Accuracy of   mel :  0 %\n",
      "Accuracy of    nv : 100 %\n",
      "Accuracy of  vasc :  0 %\n",
      "\n",
      "\n",
      "vgg19_sigmoid_Adam\n"
     ]
    },
    {
     "data": {
      "image/png": "[encoded data removed]",
      "text/plain": [
       "<Figure size 432x288 with 1 Axes>"
      ]
     },
     "metadata": {
      "needs_background": "light"
     },
     "output_type": "display_data"
    },
    {
     "name": "stdout",
     "output_type": "stream",
     "text": [
      "train accuracy: 80.00453411924734\n",
      "test accuracy: 80.96101541251133\n",
      "train accuracy for each class\n",
      "Accuracy of akiec :  0 %\n",
      "Accuracy of   bcc :  0 %\n",
      "Accuracy of   bkl :  0 %\n",
      "Accuracy of    df :  0 %\n",
      "Accuracy of   mel :  0 %\n",
      "Accuracy of    nv : 100 %\n",
      "Accuracy of  vasc :  0 %\n",
      "test accuracy for each class\n",
      "Accuracy of akiec :  0 %\n",
      "Accuracy of   bcc :  0 %\n",
      "Accuracy of   bkl :  0 %\n",
      "Accuracy of    df :  0 %\n",
      "Accuracy of   mel :  0 %\n",
      "Accuracy of    nv : 100 %\n",
      "Accuracy of  vasc :  0 %\n",
      "\n",
      "\n"
     ]
    }
   ],
   "source": [
    "num_classes = 7\n",
    "vgg_train = {}\n",
    "vgg_test = {}\n",
    "vgg_train_class = []\n",
    "vgg_test_class = []\n",
    "vgg_titles = []\n",
    "for k in vgg_types:\n",
    "    for n in activations:\n",
    "        for m in opt_types:\n",
    "                # Initialize the model for this run\n",
    "                model_c = vgg_models(k, num_classes,False)\n",
    "                \n",
    "                #choose activation function\n",
    "                if n==\"sigmoid\":\n",
    "                    convert_relu_to_sigmoid(model_c)\n",
    "                \n",
    "                # Define the device:\n",
    "                device = torch.device('cuda:0')\n",
    "                # Put the model on the device:\n",
    "                model = model_c.to(device)\n",
    "                avg_losses = []   # Avg. losses.\n",
    "                \n",
    "                \n",
    "                # We use cross-entropy as loss function.\n",
    "                loss_func = nn.CrossEntropyLoss()\n",
    "                #choose optimizer\n",
    "                if m == \"SGD\":\n",
    "                    # We use stochastic gradient descent (SGD) as optimizer.\n",
    "                    opt = optim.SGD(model.parameters(), lr=0.001, momentum=0.9)\n",
    "                else:\n",
    "                    # We use Adam as optimizer.\n",
    "                    opt= optim.Adam(model.parameters(), lr=0.0001)\n",
    "\n",
    "                epochs = 10       # Total epochs.\n",
    "                print_freq = 100  # Print frequency.\n",
    "\n",
    "                for epoch in range(epochs):  # Loop over the dataset multiple times.\n",
    "                    running_loss = 0.0       # Initialize running loss.\n",
    "                    for i, data in enumerate(trainloader, 0):\n",
    "                        # Get the inputs.\n",
    "                        inputs, labels = data\n",
    "\n",
    "                        # Move the inputs to the specified device.\n",
    "                        inputs, labels = inputs.to(device), labels.to(device)\n",
    "\n",
    "                        # Zero the parameter gradients.\n",
    "                        opt.zero_grad()\n",
    "\n",
    "                        # Forward step.\n",
    "                        outputs = model(inputs)\n",
    "                        loss = loss_func(outputs, labels)\n",
    "\n",
    "                        # Backward step.\n",
    "                        loss.backward()\n",
    "\n",
    "                        # Optimization step (update the parameters).\n",
    "                        opt.step()\n",
    "\n",
    "                        # Print statistics.\n",
    "                        running_loss += loss.item()\n",
    "                        if i % print_freq == print_freq - 1: # Print every several mini-batches.\n",
    "                            avg_loss = running_loss / print_freq\n",
    "                            avg_losses.append(avg_loss)\n",
    "                            running_loss = 0.0\n",
    "                #print type of model\n",
    "                title = k+\"_\"+n+\"_\"+m\n",
    "                vgg_titles.append(title)\n",
    "                print(title)\n",
    "                \n",
    "                #train error curve\n",
    "                plt.plot(avg_losses)\n",
    "                plt.xlabel('mini-batch index / {}'.format(print_freq))\n",
    "                plt.ylabel('avg. mini-batch loss')\n",
    "                plt.show()\n",
    "                \n",
    "                # Get  accuracy.\n",
    "                train_accuracy = check_accuracy(device,model,num_classes,trainloader)\n",
    "                test_accuracy = check_accuracy(device,model,num_classes,testloader)\n",
    "                vgg_train[title] = train_accuracy\n",
    "                vgg_test[title] = test_accuracy\n",
    "                print(\"train accuracy: \" + str(train_accuracy))\n",
    "                print(\"test accuracy: \" + str(test_accuracy))\n",
    "                print(\"train accuracy for each class\")\n",
    "                vgg_train_class.append(accuracy_each_classes(device,model,num_classes,trainloader,skin_df_uniq))\n",
    "                print(\"test accuracy for each class\")\n",
    "                vgg_test_class.append(accuracy_each_classes(device,model,num_classes,testloader,skin_df_uniq))\n",
    "                print(\"\\n\")"
   ]
  },
  {
   "cell_type": "code",
   "execution_count": 49,
   "metadata": {},
   "outputs": [
    {
     "data": {
      "text/plain": [
       "{'vgg11_relu_SGD': 89.39016096123328,\n",
       " 'vgg11_relu_Adam': 89.7302199047835,\n",
       " 'vgg11_sigmoid_SGD': 80.00453411924734,\n",
       " 'vgg11_sigmoid_Adam': 80.00453411924734,\n",
       " 'vgg11_bn_relu_SGD': 91.20380866016777,\n",
       " 'vgg11_bn_relu_Adam': 93.58422126501927,\n",
       " 'vgg11_bn_sigmoid_SGD': 80.00453411924734,\n",
       " 'vgg11_bn_sigmoid_Adam': 78.87100430741329,\n",
       " 'vgg19_relu_SGD': 87.30446610745862,\n",
       " 'vgg19_relu_Adam': 87.66719564724552,\n",
       " 'vgg19_sigmoid_SGD': 80.00453411924734,\n",
       " 'vgg19_sigmoid_Adam': 80.00453411924734}"
      ]
     },
     "execution_count": 49,
     "metadata": {},
     "output_type": "execute_result"
    }
   ],
   "source": [
    "vgg_train"
   ]
  },
  {
   "cell_type": "code",
   "execution_count": 50,
   "metadata": {},
   "outputs": [
    {
     "data": {
      "text/plain": [
       "{'vgg11_relu_SGD': 67.45240253853127,\n",
       " 'vgg11_relu_Adam': 67.81504986400725,\n",
       " 'vgg11_sigmoid_SGD': 80.96101541251133,\n",
       " 'vgg11_sigmoid_Adam': 80.96101541251133,\n",
       " 'vgg11_bn_relu_SGD': 68.08703535811424,\n",
       " 'vgg11_bn_relu_Adam': 67.1804170444243,\n",
       " 'vgg11_bn_sigmoid_SGD': 80.96101541251133,\n",
       " 'vgg11_bn_sigmoid_Adam': 67.1804170444243,\n",
       " 'vgg19_relu_SGD': 69.62828649138713,\n",
       " 'vgg19_relu_Adam': 67.72438803263826,\n",
       " 'vgg19_sigmoid_SGD': 80.96101541251133,\n",
       " 'vgg19_sigmoid_Adam': 80.96101541251133}"
      ]
     },
     "execution_count": 50,
     "metadata": {},
     "output_type": "execute_result"
    }
   ],
   "source": [
    "vgg_test"
   ]
  },
  {
   "cell_type": "markdown",
   "metadata": {},
   "source": [
    "# END"
   ]
  },
  {
   "cell_type": "code",
   "execution_count": null,
   "metadata": {},
   "outputs": [],
   "source": []
  },
  {
   "cell_type": "markdown",
   "metadata": {},
   "source": [
    "# ResNet"
   ]
  },
  {
   "cell_type": "code",
   "execution_count": 101,
   "metadata": {},
   "outputs": [],
   "source": [
    "model_resnet = torchvision.models.resnet152(pretrained=True)"
   ]
  },
  {
   "cell_type": "code",
   "execution_count": 39,
   "metadata": {},
   "outputs": [],
   "source": [
    "def set_parameter_requires_grad(model):\n",
    "    for param in model.parameters():\n",
    "        param.requires_grad = False           "
   ]
  },
  {
   "cell_type": "code",
   "execution_count": 40,
   "metadata": {},
   "outputs": [],
   "source": [
    "def convert_relu_to_sigmoid(model):\n",
    "    for child_name, child in model.named_children():\n",
    "        if isinstance(child, nn.ReLU):\n",
    "            setattr(model, child_name, nn.Sigmoid())\n",
    "        else:\n",
    "            convert_relu_to_sigmoid(child)"
   ]
  },
  {
   "cell_type": "code",
   "execution_count": 105,
   "metadata": {},
   "outputs": [],
   "source": [
    "convert_relu_to_sigmoid(model_resnet)\n",
    "set_parameter_requires_grad(model_resnet)"
   ]
  },
  {
   "cell_type": "code",
   "execution_count": 80,
   "metadata": {},
   "outputs": [],
   "source": [
    "num_classes = 7\n",
    "num_ftrs = model_resnet.fc.in_features\n",
    "model_resnet.fc = nn.Linear(num_ftrs, num_classes)\n",
    "#input_size = 224"
   ]
  },
  {
   "cell_type": "code",
   "execution_count": 81,
   "metadata": {},
   "outputs": [],
   "source": [
    "# Define the device:\n",
    "device = torch.device('cuda:0')\n",
    "# Put the model on the device:\n",
    "model = model_resnet.to(device)"
   ]
  },
  {
   "cell_type": "code",
   "execution_count": 82,
   "metadata": {},
   "outputs": [],
   "source": [
    "# We use cross-entropy as loss function.\n",
    "loss_func = nn.CrossEntropyLoss()  \n",
    "# We use stochastic gradient descent (SGD) as optimizer.\n",
    "opt = optim.SGD(model.parameters(), lr=0.001, momentum=0.9)\n",
    "# We use Adam as optimizer.\n",
    "#opt= optim.Adam([var1, var2], lr=0.0001)"
   ]
  },
  {
   "cell_type": "code",
   "execution_count": 83,
   "metadata": {},
   "outputs": [
    {
     "name": "stdout",
     "output_type": "stream",
     "text": [
      "[epoch: 0, i:    99] avg mini-batch loss: 0.326\n",
      "[epoch: 0, i:   199] avg mini-batch loss: 0.350\n",
      "[epoch: 0, i:   299] avg mini-batch loss: 0.335\n",
      "[epoch: 0, i:   399] avg mini-batch loss: 0.311\n",
      "[epoch: 0, i:   499] avg mini-batch loss: 0.349\n",
      "[epoch: 0, i:   599] avg mini-batch loss: 0.332\n",
      "[epoch: 1, i:    99] avg mini-batch loss: 0.326\n",
      "[epoch: 1, i:   199] avg mini-batch loss: 0.310\n",
      "[epoch: 1, i:   299] avg mini-batch loss: 0.328\n",
      "[epoch: 1, i:   399] avg mini-batch loss: 0.324\n",
      "[epoch: 1, i:   499] avg mini-batch loss: 0.300\n",
      "[epoch: 1, i:   599] avg mini-batch loss: 0.321\n",
      "[epoch: 2, i:    99] avg mini-batch loss: 0.321\n",
      "[epoch: 2, i:   199] avg mini-batch loss: 0.283\n",
      "[epoch: 2, i:   299] avg mini-batch loss: 0.293\n",
      "[epoch: 2, i:   399] avg mini-batch loss: 0.305\n",
      "[epoch: 2, i:   499] avg mini-batch loss: 0.289\n",
      "[epoch: 2, i:   599] avg mini-batch loss: 0.292\n",
      "[epoch: 3, i:    99] avg mini-batch loss: 0.304\n",
      "[epoch: 3, i:   199] avg mini-batch loss: 0.329\n",
      "[epoch: 3, i:   299] avg mini-batch loss: 0.317\n",
      "[epoch: 3, i:   399] avg mini-batch loss: 0.293\n",
      "[epoch: 3, i:   499] avg mini-batch loss: 0.303\n",
      "[epoch: 3, i:   599] avg mini-batch loss: 0.272\n",
      "[epoch: 4, i:    99] avg mini-batch loss: 0.288\n",
      "[epoch: 4, i:   199] avg mini-batch loss: 0.286\n",
      "[epoch: 4, i:   299] avg mini-batch loss: 0.291\n",
      "[epoch: 4, i:   399] avg mini-batch loss: 0.287\n",
      "[epoch: 4, i:   499] avg mini-batch loss: 0.278\n",
      "[epoch: 4, i:   599] avg mini-batch loss: 0.268\n",
      "[epoch: 5, i:    99] avg mini-batch loss: 0.275\n",
      "[epoch: 5, i:   199] avg mini-batch loss: 0.274\n",
      "[epoch: 5, i:   299] avg mini-batch loss: 0.268\n",
      "[epoch: 5, i:   399] avg mini-batch loss: 0.277\n",
      "[epoch: 5, i:   499] avg mini-batch loss: 0.255\n",
      "[epoch: 5, i:   599] avg mini-batch loss: 0.263\n",
      "[epoch: 6, i:    99] avg mini-batch loss: 0.239\n",
      "[epoch: 6, i:   199] avg mini-batch loss: 0.302\n",
      "[epoch: 6, i:   299] avg mini-batch loss: 0.235\n",
      "[epoch: 6, i:   399] avg mini-batch loss: 0.259\n",
      "[epoch: 6, i:   499] avg mini-batch loss: 0.228\n",
      "[epoch: 6, i:   599] avg mini-batch loss: 0.304\n",
      "[epoch: 7, i:    99] avg mini-batch loss: 0.242\n",
      "[epoch: 7, i:   199] avg mini-batch loss: 0.244\n",
      "[epoch: 7, i:   299] avg mini-batch loss: 0.242\n",
      "[epoch: 7, i:   399] avg mini-batch loss: 0.251\n",
      "[epoch: 7, i:   499] avg mini-batch loss: 0.245\n",
      "[epoch: 7, i:   599] avg mini-batch loss: 0.246\n",
      "[epoch: 8, i:    99] avg mini-batch loss: 0.241\n",
      "[epoch: 8, i:   199] avg mini-batch loss: 0.265\n",
      "[epoch: 8, i:   299] avg mini-batch loss: 0.250\n",
      "[epoch: 8, i:   399] avg mini-batch loss: 0.257\n",
      "[epoch: 8, i:   499] avg mini-batch loss: 0.224\n",
      "[epoch: 8, i:   599] avg mini-batch loss: 0.229\n",
      "[epoch: 9, i:    99] avg mini-batch loss: 0.220\n",
      "[epoch: 9, i:   199] avg mini-batch loss: 0.271\n",
      "[epoch: 9, i:   299] avg mini-batch loss: 0.245\n",
      "[epoch: 9, i:   399] avg mini-batch loss: 0.241\n",
      "[epoch: 9, i:   499] avg mini-batch loss: 0.224\n",
      "[epoch: 9, i:   599] avg mini-batch loss: 0.253\n",
      "Finished Training.\n"
     ]
    }
   ],
   "source": [
    "avg_losses = []   # Avg. losses.\n",
    "epochs = 10       # Total epochs.\n",
    "print_freq = 100  # Print frequency.\n",
    "\n",
    "for epoch in range(epochs):  # Loop over the dataset multiple times.\n",
    "    running_loss = 0.0       # Initialize running loss.\n",
    "    for i, data in enumerate(trainloader, 0):\n",
    "        # Get the inputs.\n",
    "        inputs, labels = data\n",
    "        \n",
    "        # Move the inputs to the specified device.\n",
    "        inputs, labels = inputs.to(device), labels.to(device)\n",
    "        \n",
    "        # Zero the parameter gradients.\n",
    "        opt.zero_grad()\n",
    "\n",
    "        # Forward step.\n",
    "        outputs = model(inputs)\n",
    "        loss = loss_func(outputs, labels)\n",
    "        \n",
    "        # Backward step.\n",
    "        loss.backward()\n",
    "        \n",
    "        # Optimization step (update the parameters).\n",
    "        opt.step()\n",
    "\n",
    "        # Print statistics.\n",
    "        running_loss += loss.item()\n",
    "        if i % print_freq == print_freq - 1: # Print every several mini-batches.\n",
    "            avg_loss = running_loss / print_freq\n",
    "            print('[epoch: {}, i: {:5d}] avg mini-batch loss: {:.3f}'.format(\n",
    "                epoch, i, avg_loss))\n",
    "            avg_losses.append(avg_loss)\n",
    "            running_loss = 0.0\n",
    "\n",
    "print('Finished Training.')"
   ]
  },
  {
   "cell_type": "code",
   "execution_count": 84,
   "metadata": {},
   "outputs": [
    {
     "data": {
      "image/png": "[encoded data removed]",
      "text/plain": [
       "<Figure size 432x288 with 1 Axes>"
      ]
     },
     "metadata": {
      "needs_background": "light"
     },
     "output_type": "display_data"
    }
   ],
   "source": [
    "plt.plot(avg_losses)\n",
    "plt.xlabel('mini-batch index / {}'.format(print_freq))\n",
    "plt.ylabel('avg. mini-batch loss')\n",
    "plt.show()"
   ]
  },
  {
   "cell_type": "markdown",
   "metadata": {},
   "source": [
    "# VGG"
   ]
  },
  {
   "cell_type": "code",
   "execution_count": 48,
   "metadata": {},
   "outputs": [],
   "source": [
    "model_ft = models.vgg19(pretrained=True)\n",
    "set_parameter_requires_grad(model_ft)\n",
    "#convert_relu_to_sigmoid(model_ft)\n",
    "num_ftrs = model_ft.classifier[6].in_features\n",
    "model_ft.classifier[6] = nn.Linear(num_ftrs,7)\n",
    "device = torch.device('cuda:0')\n",
    "# Put the model on the device:\n",
    "model = model_ft.to(device)"
   ]
  },
  {
   "cell_type": "code",
   "execution_count": 49,
   "metadata": {},
   "outputs": [],
   "source": [
    "# We use cross-entropy as loss function.\n",
    "loss_func = nn.CrossEntropyLoss()  \n",
    "# We use stochastic gradient descent (SGD) as optimizer.\n",
    "opt = optim.SGD(model.parameters(), lr=0.001, momentum=0.9) "
   ]
  },
  {
   "cell_type": "code",
   "execution_count": 50,
   "metadata": {},
   "outputs": [
    {
     "name": "stdout",
     "output_type": "stream",
     "text": [
      "[epoch: 0, i:    99] avg mini-batch loss: 2.094\n",
      "[epoch: 0, i:   199] avg mini-batch loss: 1.994\n",
      "[epoch: 0, i:   299] avg mini-batch loss: 2.067\n",
      "[epoch: 0, i:   399] avg mini-batch loss: 1.988\n",
      "[epoch: 0, i:   499] avg mini-batch loss: 2.038\n",
      "[epoch: 0, i:   599] avg mini-batch loss: 2.017\n",
      "[epoch: 1, i:    99] avg mini-batch loss: 2.000\n",
      "[epoch: 1, i:   199] avg mini-batch loss: 2.010\n",
      "[epoch: 1, i:   299] avg mini-batch loss: 2.022\n",
      "[epoch: 1, i:   399] avg mini-batch loss: 2.071\n",
      "[epoch: 1, i:   499] avg mini-batch loss: 2.041\n",
      "[epoch: 1, i:   599] avg mini-batch loss: 1.947\n",
      "[epoch: 2, i:    99] avg mini-batch loss: 2.052\n",
      "[epoch: 2, i:   199] avg mini-batch loss: 2.028\n",
      "[epoch: 2, i:   299] avg mini-batch loss: 2.019\n",
      "[epoch: 2, i:   399] avg mini-batch loss: 2.000\n",
      "[epoch: 2, i:   499] avg mini-batch loss: 1.951\n",
      "[epoch: 2, i:   599] avg mini-batch loss: 2.007\n",
      "[epoch: 3, i:    99] avg mini-batch loss: 2.086\n",
      "[epoch: 3, i:   199] avg mini-batch loss: 2.056\n",
      "[epoch: 3, i:   299] avg mini-batch loss: 2.052\n",
      "[epoch: 3, i:   399] avg mini-batch loss: 2.133\n",
      "[epoch: 3, i:   499] avg mini-batch loss: 1.954\n",
      "[epoch: 3, i:   599] avg mini-batch loss: 2.110\n",
      "[epoch: 4, i:    99] avg mini-batch loss: 2.094\n",
      "[epoch: 4, i:   199] avg mini-batch loss: 1.893\n",
      "[epoch: 4, i:   299] avg mini-batch loss: 2.025\n",
      "[epoch: 4, i:   399] avg mini-batch loss: 1.991\n",
      "[epoch: 4, i:   499] avg mini-batch loss: 2.113\n",
      "[epoch: 4, i:   599] avg mini-batch loss: 2.078\n",
      "[epoch: 5, i:    99] avg mini-batch loss: 2.011\n",
      "[epoch: 5, i:   199] avg mini-batch loss: 2.043\n",
      "[epoch: 5, i:   299] avg mini-batch loss: 2.041\n",
      "[epoch: 5, i:   399] avg mini-batch loss: 2.176\n",
      "[epoch: 5, i:   499] avg mini-batch loss: 2.023\n",
      "[epoch: 5, i:   599] avg mini-batch loss: 1.978\n",
      "[epoch: 6, i:    99] avg mini-batch loss: 1.973\n",
      "[epoch: 6, i:   199] avg mini-batch loss: 2.060\n",
      "[epoch: 6, i:   299] avg mini-batch loss: 2.017\n",
      "[epoch: 6, i:   399] avg mini-batch loss: 2.035\n",
      "[epoch: 6, i:   499] avg mini-batch loss: 2.096\n",
      "[epoch: 6, i:   599] avg mini-batch loss: 2.044\n",
      "[epoch: 7, i:    99] avg mini-batch loss: 1.998\n",
      "[epoch: 7, i:   199] avg mini-batch loss: 1.922\n",
      "[epoch: 7, i:   299] avg mini-batch loss: 2.015\n",
      "[epoch: 7, i:   399] avg mini-batch loss: 2.037\n",
      "[epoch: 7, i:   499] avg mini-batch loss: 2.003\n",
      "[epoch: 7, i:   599] avg mini-batch loss: 2.074\n",
      "[epoch: 8, i:    99] avg mini-batch loss: 1.917\n",
      "[epoch: 8, i:   199] avg mini-batch loss: 2.072\n",
      "[epoch: 8, i:   299] avg mini-batch loss: 2.155\n",
      "[epoch: 8, i:   399] avg mini-batch loss: 2.061\n",
      "[epoch: 8, i:   499] avg mini-batch loss: 1.930\n",
      "[epoch: 8, i:   599] avg mini-batch loss: 2.063\n",
      "[epoch: 9, i:    99] avg mini-batch loss: 2.062\n",
      "[epoch: 9, i:   199] avg mini-batch loss: 1.950\n",
      "[epoch: 9, i:   299] avg mini-batch loss: 2.081\n",
      "[epoch: 9, i:   399] avg mini-batch loss: 1.981\n",
      "[epoch: 9, i:   499] avg mini-batch loss: 2.171\n",
      "[epoch: 9, i:   599] avg mini-batch loss: 2.027\n",
      "Finished Training.\n"
     ]
    }
   ],
   "source": [
    "avg_losses = []   # Avg. losses.\n",
    "epochs = 10       # Total epochs.\n",
    "print_freq = 100  # Print frequency.\n",
    "\n",
    "for epoch in range(epochs):  # Loop over the dataset multiple times.\n",
    "    running_loss = 0.0       # Initialize running loss.\n",
    "    for i, data in enumerate(trainloader, 0):\n",
    "        # Get the inputs.\n",
    "        inputs, labels = data\n",
    "        \n",
    "        # Move the inputs to the specified device.\n",
    "        inputs, labels = inputs.to(device), labels.to(device)\n",
    "        \n",
    "        # Zero the parameter gradients.\n",
    "        opt.zero_grad()\n",
    "\n",
    "        # Forward step.\n",
    "        outputs = model(inputs)\n",
    "        loss = loss_func(outputs, labels)\n",
    "        \n",
    "        # Backward step.\n",
    "        loss.backward()\n",
    "        \n",
    "        # Optimization step (update the parameters).\n",
    "        opt.step()\n",
    "\n",
    "        # Print statistics.\n",
    "        running_loss += loss.item()\n",
    "        if i % print_freq == print_freq - 1: # Print every several mini-batches.\n",
    "            avg_loss = running_loss / print_freq\n",
    "            print('[epoch: {}, i: {:5d}] avg mini-batch loss: {:.3f}'.format(\n",
    "                epoch, i, avg_loss))\n",
    "            avg_losses.append(avg_loss)\n",
    "            running_loss = 0.0\n",
    "\n",
    "print('Finished Training.')"
   ]
  },
  {
   "cell_type": "code",
   "execution_count": 51,
   "metadata": {},
   "outputs": [
    {
     "data": {
      "image/png": "[encoded data removed]",
      "text/plain": [
       "<Figure size 432x288 with 1 Axes>"
      ]
     },
     "metadata": {
      "needs_background": "light"
     },
     "output_type": "display_data"
    }
   ],
   "source": [
    "plt.plot(avg_losses)\n",
    "plt.xlabel('mini-batch index / {}'.format(print_freq))\n",
    "plt.ylabel('avg. mini-batch loss')\n",
    "plt.show()"
   ]
  },
  {
   "cell_type": "markdown",
   "metadata": {},
   "source": [
    "#### Evaluate on Test Dataset"
   ]
  },
  {
   "cell_type": "code",
   "execution_count": 45,
   "metadata": {},
   "outputs": [
    {
     "ename": "NameError",
     "evalue": "name 'imshow' is not defined",
     "output_type": "error",
     "traceback": [
      "\u001b[0;31m---------------------------------------------------------------------------\u001b[0m",
      "\u001b[0;31mNameError\u001b[0m                                 Traceback (most recent call last)",
      "\u001b[0;32m<ipython-input-45-fa78e2460316>\u001b[0m in \u001b[0;36m<module>\u001b[0;34m\u001b[0m\n\u001b[1;32m      3\u001b[0m \u001b[0mdataiter\u001b[0m \u001b[0;34m=\u001b[0m \u001b[0miter\u001b[0m\u001b[0;34m(\u001b[0m\u001b[0mtestloader\u001b[0m\u001b[0;34m)\u001b[0m\u001b[0;34m\u001b[0m\u001b[0;34m\u001b[0m\u001b[0m\n\u001b[1;32m      4\u001b[0m \u001b[0mimages\u001b[0m\u001b[0;34m,\u001b[0m \u001b[0mlabels\u001b[0m \u001b[0;34m=\u001b[0m \u001b[0mdataiter\u001b[0m\u001b[0;34m.\u001b[0m\u001b[0mnext\u001b[0m\u001b[0;34m(\u001b[0m\u001b[0;34m)\u001b[0m\u001b[0;34m\u001b[0m\u001b[0;34m\u001b[0m\u001b[0m\n\u001b[0;32m----> 5\u001b[0;31m \u001b[0mimshow\u001b[0m\u001b[0;34m(\u001b[0m\u001b[0mtorchvision\u001b[0m\u001b[0;34m.\u001b[0m\u001b[0mutils\u001b[0m\u001b[0;34m.\u001b[0m\u001b[0mmake_grid\u001b[0m\u001b[0;34m(\u001b[0m\u001b[0mimages\u001b[0m\u001b[0;34m)\u001b[0m\u001b[0;34m)\u001b[0m\u001b[0;34m\u001b[0m\u001b[0;34m\u001b[0m\u001b[0m\n\u001b[0m\u001b[1;32m      6\u001b[0m \u001b[0mprint\u001b[0m\u001b[0;34m(\u001b[0m\u001b[0;34m'GroundTruth: '\u001b[0m\u001b[0;34m,\u001b[0m \u001b[0;34m' '\u001b[0m\u001b[0;34m.\u001b[0m\u001b[0mjoin\u001b[0m\u001b[0;34m(\u001b[0m\u001b[0;34m'%5s'\u001b[0m \u001b[0;34m%\u001b[0m \u001b[0mclasses\u001b[0m\u001b[0;34m[\u001b[0m\u001b[0mlabels\u001b[0m\u001b[0;34m[\u001b[0m\u001b[0mj\u001b[0m\u001b[0;34m]\u001b[0m\u001b[0;34m]\u001b[0m \u001b[0;32mfor\u001b[0m \u001b[0mj\u001b[0m \u001b[0;32min\u001b[0m \u001b[0mrange\u001b[0m\u001b[0;34m(\u001b[0m\u001b[0;36m4\u001b[0m\u001b[0;34m)\u001b[0m\u001b[0;34m)\u001b[0m\u001b[0;34m)\u001b[0m\u001b[0;34m\u001b[0m\u001b[0;34m\u001b[0m\u001b[0m\n\u001b[1;32m      7\u001b[0m \u001b[0moutputs\u001b[0m \u001b[0;34m=\u001b[0m \u001b[0mnet\u001b[0m\u001b[0;34m(\u001b[0m\u001b[0mimages\u001b[0m\u001b[0;34m.\u001b[0m\u001b[0mto\u001b[0m\u001b[0;34m(\u001b[0m\u001b[0mdevice\u001b[0m\u001b[0;34m)\u001b[0m\u001b[0;34m)\u001b[0m\u001b[0;34m\u001b[0m\u001b[0;34m\u001b[0m\u001b[0m\n",
      "\u001b[0;31mNameError\u001b[0m: name 'imshow' is not defined"
     ]
    }
   ],
   "source": [
    "# Check several images.\n",
    "## (SKIPPED for now)\n",
    "dataiter = iter(testloader)\n",
    "images, labels = dataiter.next()\n",
    "imshow(torchvision.utils.make_grid(images))\n",
    "print('GroundTruth: ', ' '.join('%5s' % classes[labels[j]] for j in range(4)))\n",
    "outputs = net(images.to(device))\n",
    "_, predicted = torch.max(outputs, 1)\n",
    "\n",
    "print('Predicted: ', ' '.join('%5s' % classes[predicted[j]]\n",
    "                              for j in range(4)))"
   ]
  },
  {
   "cell_type": "code",
   "execution_count": 44,
   "metadata": {},
   "outputs": [
    {
     "name": "stdout",
     "output_type": "stream",
     "text": [
      "Accuracy of the network on the 10000 test images: 40 %\n"
     ]
    }
   ],
   "source": [
    "# Get test accuracy.\n",
    "correct = 0\n",
    "total = 0\n",
    "with torch.no_grad():\n",
    "    for data in testloader:\n",
    "        images, labels = data\n",
    "        images, labels = images.to(device), labels.to(device)\n",
    "        outputs = net(images)\n",
    "        _, predicted = torch.max(outputs.data, 1)\n",
    "        total += labels.size(0)\n",
    "        correct += (predicted == labels).sum().item()\n",
    "\n",
    "print('Accuracy of the network on the 10000 test images: %d %%' % (\n",
    "    100 * correct / total))"
   ]
  },
  {
   "cell_type": "code",
   "execution_count": 48,
   "metadata": {},
   "outputs": [
    {
     "name": "stdout",
     "output_type": "stream",
     "text": [
      "Accuracy of   bkl : 12 %\n",
      "Accuracy of    nv :  2 %\n",
      "Accuracy of    df : 13 %\n",
      "Accuracy of   mel :  0 %\n",
      "Accuracy of  vasc : 17 %\n",
      "Accuracy of   bcc : 47 %\n",
      "Accuracy of akiec :  0 %\n"
     ]
    }
   ],
   "source": [
    "# Get test accuracy for each class.\n",
    "classes = list(skin_df_uniq['dx'].unique())\n",
    "class_correct = list(0. for i in range(7))\n",
    "class_total = list(0. for i in range(7))\n",
    "\n",
    "y_label = []\n",
    "y_predict = []\n",
    "\n",
    "\n",
    "with torch.no_grad():\n",
    "    for data in testloader:\n",
    "        images, labels = data\n",
    "        images, labels = images.to(device), labels.to(device)\n",
    "        outputs = net(images)\n",
    "        _, predicted = torch.max(outputs, 1)\n",
    "        c = (predicted == labels).squeeze()\n",
    "        \n",
    "        y_label.extend(labels.cpu().numpy())\n",
    "        y_predict.extend(np.squeeze(predicted.cpu().numpy().T))\n",
    "\n",
    "        for i in range(len(labels)):\n",
    "            label = labels[i]\n",
    "            class_correct[label] += c[i].item()\n",
    "            class_total[label] += 1\n",
    "\n",
    "for i in range(7):\n",
    "    print('Accuracy of %5s : %2d %%' % (\n",
    "        classes[i], 100 * class_correct[i] / class_total[i]))"
   ]
  },
  {
   "cell_type": "code",
   "execution_count": 48,
   "metadata": {},
   "outputs": [
    {
     "data": {
      "text/plain": [
       "5    614\n",
       "2    210\n",
       "4     98\n",
       "1     57\n",
       "0     50\n",
       "3     44\n",
       "6     30\n",
       "dtype: int64"
      ]
     },
     "execution_count": 48,
     "metadata": {},
     "output_type": "execute_result"
    }
   ],
   "source": [
    "pd.Series(y_predict).value_counts()"
   ]
  },
  {
   "cell_type": "code",
   "execution_count": 49,
   "metadata": {},
   "outputs": [
    {
     "name": "stdout",
     "output_type": "stream",
     "text": [
      "              precision    recall  f1-score   support\n",
      "\n",
      "         bkl       0.02      0.04      0.03        24\n",
      "          nv       0.02      0.03      0.02        36\n",
      "          df       0.08      0.17      0.10        95\n",
      "         mel       0.00      0.00      0.00         4\n",
      "        vasc       0.05      0.12      0.07        41\n",
      "         bcc       0.81      0.56      0.66       893\n",
      "       akiec       0.00      0.00      0.00        10\n",
      "\n",
      "    accuracy                           0.47      1103\n",
      "   macro avg       0.14      0.13      0.13      1103\n",
      "weighted avg       0.67      0.47      0.55      1103\n",
      "\n"
     ]
    }
   ],
   "source": [
    "print(classification_report(y_label, y_predict, target_names=classes))"
   ]
  },
  {
   "cell_type": "code",
   "execution_count": null,
   "metadata": {},
   "outputs": [],
   "source": []
  }
 ],
 "metadata": {
  "kernelspec": {
   "display_name": "Python 3",
   "language": "python",
   "name": "python3"
  },
  "language_info": {
   "codemirror_mode": {
    "name": "ipython",
    "version": 3
   },
   "file_extension": ".py",
   "mimetype": "text/x-python",
   "name": "python",
   "nbconvert_exporter": "python",
   "pygments_lexer": "ipython3",
   "version": "3.7.3"
  }
 },
 "nbformat": 4,
 "nbformat_minor": 2
}
